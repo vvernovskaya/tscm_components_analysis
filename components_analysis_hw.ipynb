{
 "cells": [
  {
   "cell_type": "markdown",
   "metadata": {},
   "source": [
    "## Here is the code for analysis of components of hydrogen on different timesteps (reviewed and edited by Nikita)"
   ]
  },
  {
   "cell_type": "code",
   "execution_count": 1,
   "metadata": {},
   "outputs": [],
   "source": [
    "import numpy as np\n",
    "import plotly as ply\n",
    "import plotly.graph_objs as go"
   ]
  },
  {
   "cell_type": "code",
   "execution_count": 2,
   "metadata": {},
   "outputs": [],
   "source": [
    "def sortarg(it): #custom sortkey\n",
    "    return int(it[0].split()[0])"
   ]
  },
  {
   "cell_type": "markdown",
   "metadata": {},
   "source": [
    "### Yegor's function for grouping the nearby particles: "
   ]
  },
  {
   "cell_type": "code",
   "execution_count": 3,
   "metadata": {},
   "outputs": [],
   "source": [
    "def read(filename, r):\n",
    "    with open(filename) as f:\n",
    "        lines = f.readlines()\n",
    "    data=[]\n",
    "    for k in lines:\n",
    "        if len(k) > 15:\n",
    "            d=[]\n",
    "            d.append(k)\n",
    "            for m in lines:\n",
    "                if k!=m and len(m) > 15 and (float(m.split()[3])-float(k.split()[3]))**2+(float(m.split()[4])-float(k.split()[4]))**2+(float(m.split()[2])-float(k.split()[2]))**2 <= r**2:\n",
    "                    d.append(m)\n",
    "            data.append(d)\n",
    "    data.sort(key=sortarg)\n",
    "    return data"
   ]
  },
  {
   "cell_type": "markdown",
   "metadata": {},
   "source": [
    "### Alexander's function for analysis of bonded particles:"
   ]
  },
  {
   "cell_type": "code",
   "execution_count": 4,
   "metadata": {},
   "outputs": [],
   "source": [
    "def calculate(mydata, mydata2):\n",
    "    quantity_E=0 #количество электронов\n",
    "    quantity_Hp=0 #количество ионов водорода\n",
    "    quantity_H1=0 #количество H1\n",
    "    quantity_H2=0 #количество H2\n",
    "    quantity_N=0 #количество неопределенных атомов\n",
    "    for i in range (len(mydata)):\n",
    "        N=0\n",
    "        for j in range (len(mydata[i])):\n",
    "    \n",
    "            N+=int(mydata[i][j].split()[1])\n",
    "        if N==6 and len(mydata[i])==4:\n",
    "            quantity_H2+=1\n",
    "        elif N==3 and len(mydata[i])==2:\n",
    "            quantity_H1+=1\n",
    "        elif N==1:\n",
    "            quantity_Hp+=1\n",
    "        elif N==2 and len(mydata[i])==1:\n",
    "            quantity_E+=1\n",
    "        elif N==6 and len(mydata2[i])==4:\n",
    "            quantity_H2+=1\n",
    "    quantity_N=2000-quantity_Hp-quantity_E-quantity_H1-quantity_H2          \n",
    "    \n",
    "    return quantity_H2, quantity_Hp, quantity_E, quantity_H1, quantity_N"
   ]
  },
  {
   "cell_type": "markdown",
   "metadata": {},
   "source": [
    "### Vika's function for plot making:"
   ]
  },
  {
   "cell_type": "code",
   "execution_count": 7,
   "metadata": {},
   "outputs": [],
   "source": [
    "def make_concentrations_arrays(N=2283000, step=100000):\n",
    "    i = 1000\n",
    "    h2 = []\n",
    "    hp = []\n",
    "    em = []\n",
    "    h = []\n",
    "    dfc = []\n",
    "    \n",
    "    folder_num = 0\n",
    "    read_data1 = read(\"timesteps_tables_\" + str(folder_num) + \"/\" + str(i) + \".txt\")\n",
    "    while i <= N:\n",
    "        if (i+step >= folder_num + 1000000):\n",
    "            folder_num += 1000000\n",
    "        if (i+step > N):\n",
    "            return h2, hp, em, h, dfc\n",
    "        \n",
    "        data2 = \"timesteps_tables_\" + str(folder_num) + \"/\" + str(i+step) + \".txt\"\n",
    "        \n",
    "        read_data1 = read_data2\n",
    "        read_data2 = read(data2, 2)\n",
    "        comps = calculate(read_data1, read_data2)\n",
    "        h2.append(comps[0])\n",
    "        hp.append(comps[1])\n",
    "        em.append(comps[2])\n",
    "        h.append(comps[3])\n",
    "        dfc.append(comps[4])\n",
    "        print(\"done:\", i)\n",
    "        \n",
    "        i += step\n",
    "    \n",
    "    return h2, hp, em, h, dfc"
   ]
  },
  {
   "cell_type": "code",
   "execution_count": 8,
   "metadata": {},
   "outputs": [
    {
     "name": "stdout",
     "output_type": "stream",
     "text": [
      "done: 1000\n",
      "done: 101000\n",
      "done: 201000\n",
      "done: 301000\n",
      "done: 401000\n",
      "done: 501000\n",
      "done: 601000\n",
      "done: 701000\n",
      "done: 801000\n",
      "done: 901000\n",
      "done: 1001000\n",
      "done: 1101000\n",
      "done: 1201000\n",
      "done: 1301000\n",
      "done: 1401000\n",
      "done: 1501000\n",
      "done: 1601000\n",
      "done: 1701000\n",
      "done: 1801000\n",
      "done: 1901000\n",
      "done: 2001000\n",
      "done: 2101000\n",
      "done with everything\n"
     ]
    }
   ],
   "source": [
    "h2, hp, em, h, dfc = make_concentrations_arrays()\n",
    "print(\"done with everything\")"
   ]
  },
  {
   "cell_type": "code",
   "execution_count": 1,
   "metadata": {},
   "outputs": [
    {
     "ename": "NameError",
     "evalue": "name 'np' is not defined",
     "output_type": "error",
     "traceback": [
      "\u001b[0;31m---------------------------------------------------------------------------\u001b[0m",
      "\u001b[0;31mNameError\u001b[0m                                 Traceback (most recent call last)",
      "\u001b[0;32m<ipython-input-1-04c885d1454e>\u001b[0m in \u001b[0;36m<module>\u001b[0;34m\u001b[0m\n\u001b[1;32m      1\u001b[0m \u001b[0mN\u001b[0m \u001b[0;34m=\u001b[0m \u001b[0;36m2283000\u001b[0m\u001b[0;34m\u001b[0m\u001b[0;34m\u001b[0m\u001b[0m\n\u001b[1;32m      2\u001b[0m \u001b[0mstep\u001b[0m \u001b[0;34m=\u001b[0m \u001b[0;36m100000\u001b[0m\u001b[0;34m\u001b[0m\u001b[0;34m\u001b[0m\u001b[0m\n\u001b[0;32m----> 3\u001b[0;31m \u001b[0mtimesteps\u001b[0m \u001b[0;34m=\u001b[0m \u001b[0mnp\u001b[0m\u001b[0;34m.\u001b[0m\u001b[0marange\u001b[0m\u001b[0;34m(\u001b[0m\u001b[0;36m1000\u001b[0m\u001b[0;34m,\u001b[0m \u001b[0;36m2101001\u001b[0m\u001b[0;34m,\u001b[0m \u001b[0mstep\u001b[0m\u001b[0;34m)\u001b[0m\u001b[0;34m\u001b[0m\u001b[0;34m\u001b[0m\u001b[0m\n\u001b[0m\u001b[1;32m      4\u001b[0m \u001b[0;34m\u001b[0m\u001b[0m\n\u001b[1;32m      5\u001b[0m \u001b[0mfig\u001b[0m \u001b[0;34m=\u001b[0m \u001b[0mgo\u001b[0m\u001b[0;34m.\u001b[0m\u001b[0mFigure\u001b[0m\u001b[0;34m(\u001b[0m\u001b[0;34m)\u001b[0m\u001b[0;34m\u001b[0m\u001b[0;34m\u001b[0m\u001b[0m\n",
      "\u001b[0;31mNameError\u001b[0m: name 'np' is not defined"
     ]
    }
   ],
   "source": [
    "N = 2283000\n",
    "step = 100000\n",
    "timesteps = np.arange(1000, 2101001, step)\n",
    "\n",
    "fig = go.Figure()\n",
    "\n",
    "fig.update_layout(title=\"Concentration of components on different timesteps\")\n",
    "fig.update_yaxes(title=\"Number of particles\")\n",
    "fig.update_xaxes(range=[1000, N], title=\"Timestep\")\n",
    "fig.add_trace(go.Scatter(x=timesteps, y=h2, name=\"H_2 (molecular)\"))\n",
    "fig.add_trace(go.Scatter(x=timesteps, y=hp, name=\"Protons\"))\n",
    "fig.add_trace(go.Scatter(x=timesteps, y=em, name=\"Electrons\"))\n",
    "fig.add_trace(go.Scatter(x=timesteps, y=h, name=\"H (atomic)\"))\n",
    "fig.add_trace(go.Scatter(x=timesteps, y=dfc, name=\"Not defined\"))\n",
    "\n",
    "fig.show()"
   ]
  },
  {
   "cell_type": "code",
   "execution_count": null,
   "metadata": {},
   "outputs": [],
   "source": []
  }
 ],
 "metadata": {
  "kernelspec": {
   "display_name": "Python 3",
   "language": "python",
   "name": "python3"
  },
  "language_info": {
   "codemirror_mode": {
    "name": "ipython",
    "version": 3
   },
   "file_extension": ".py",
   "mimetype": "text/x-python",
   "name": "python",
   "nbconvert_exporter": "python",
   "pygments_lexer": "ipython3",
   "version": "3.8.5"
  }
 },
 "nbformat": 4,
 "nbformat_minor": 5
}
