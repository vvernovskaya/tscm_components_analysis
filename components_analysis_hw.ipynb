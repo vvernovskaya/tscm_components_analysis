{
 "cells": [
  {
   "cell_type": "markdown",
   "id": "warming-nevada",
   "metadata": {},
   "source": [
    "## Here is the code for analysis of components of hydrogen on different timesteps (reviewed and edited by Nikita)"
   ]
  },
  {
   "cell_type": "code",
   "execution_count": 1,
   "id": "secure-atlanta",
   "metadata": {},
   "outputs": [],
   "source": [
    "import numpy as np\n",
    "import plotly as ply\n",
    "import plotly.graph_objs as go"
   ]
  },
  {
   "cell_type": "code",
   "execution_count": 2,
   "id": "welcome-criticism",
   "metadata": {},
   "outputs": [],
   "source": [
    "def sortarg(it): #custom sortkey\n",
    "    return int(it[0].split()[0])\n",
    "def sortarg2(it): #custom sortkey\n",
    "    return int(it.split()[0])"
   ]
  },
  {
   "cell_type": "code",
   "execution_count": 3,
   "id": "athletic-vocabulary",
   "metadata": {},
   "outputs": [],
   "source": [
    "CELL_SIZE = 26.540779\n",
    "R = 2"
   ]
  },
  {
   "cell_type": "markdown",
   "id": "dated-saskatchewan",
   "metadata": {},
   "source": [
    "### Yegor's (and everybody's) function for grouping the nearby particles: "
   ]
  },
  {
   "cell_type": "code",
   "execution_count": 4,
   "id": "devoted-softball",
   "metadata": {},
   "outputs": [],
   "source": [
    "def check_ball(x_center, y_center, z_center, x_other, y_other, z_other, r):\n",
    "    if (x_center - x_other)**2 + (y_center - y_other)**2 + (z_center - z_other)**2 <= r**2:\n",
    "        return True\n",
    "    else:\n",
    "        return False"
   ]
  },
  {
   "cell_type": "code",
   "execution_count": 5,
   "id": "respiratory-anthropology",
   "metadata": {},
   "outputs": [],
   "source": [
    "def read(filename1,filename2, r):\n",
    "    with open(filename1) as f1:\n",
    "        lines1 = f1.readlines()\n",
    "    with open(filename2) as f2:\n",
    "        lines2 = f2.readlines()\n",
    "    lines1.remove(lines1[0])\n",
    "    lines2.remove(lines2[0])    \n",
    "    lines1.sort(key=sortarg2) #sort by id\n",
    "    lines2.sort(key=sortarg2)\n",
    "\n",
    "    data=[]\n",
    "    for i in range(len(lines1)): # chosing a particle to form a group\n",
    "        if len(lines1[i]) > 15:\n",
    "            k=lines1[i]\n",
    "            k_split = k.split()\n",
    "            k2=lines2[i]\n",
    "            k2_split = k2.split()\n",
    "            \n",
    "            # checking whether the central particle in filename1 is on the edge\n",
    "            if float(k_split[2]) >= CELL_SIZE-r:\n",
    "                edge_x = -1 # indicating that we need to check around x=0 also\n",
    "            elif float(k_split[2]) <= r:\n",
    "                edge_x = 1 # indicating that we need to check arounf x=CELL_SIZE also\n",
    "            elif float(k_split[2] )> r and float(k_split[2]) < CELL_SIZE-r:\n",
    "                edge_x = 0 # we do not need to check x on the other side\n",
    "            \n",
    "            if float(k_split[3]) >= CELL_SIZE-r:\n",
    "                edge_y = -1 \n",
    "            elif float(k_split[3]) <= r:\n",
    "                edge_y = 1 \n",
    "            elif float(k_split[3]) > r and float(k_split[3]) < CELL_SIZE-r:\n",
    "                edge_y = 0 \n",
    "            \n",
    "            if float(k_split[4]) >= CELL_SIZE-r:\n",
    "                edge_z = -1 \n",
    "            elif float(k_split[4]) <= r:\n",
    "                edge_z = 1 \n",
    "            elif float(k_split[4]) > r and float(k_split[4]) < CELL_SIZE-r:\n",
    "                edge_z = 0\n",
    "            \n",
    "            # checking the same for filename2\n",
    "            if float(k2_split[2]) >= CELL_SIZE-r:\n",
    "                edge_x2 = -1 \n",
    "            elif float(k2_split[2]) <= r:\n",
    "                edge_x2 = 1 \n",
    "            elif float(k2_split[2] )> r and float(k2_split[2]) < CELL_SIZE-r:\n",
    "                edge_x2 = 0 \n",
    "            \n",
    "            if float(k2_split[3]) >= CELL_SIZE-r:\n",
    "                edge_y2 = -1 \n",
    "            elif float(k2_split[3]) <= r:\n",
    "                edge_y2 = 1 \n",
    "            elif float(k2_split[3]) > r and float(k2_split[3]) < CELL_SIZE-r:\n",
    "                edge_y2 = 0 \n",
    "            \n",
    "            if float(k2_split[4]) >= CELL_SIZE-r:\n",
    "                edge_z2 = -1 \n",
    "            elif float(k2_split[4]) <= r:\n",
    "                edge_z2 = 1 \n",
    "            elif float(k2_split[4]) > r and float(k2_split[4]) < CELL_SIZE-r:\n",
    "                edge_z2 = 0\n",
    "        \n",
    "            d=[] # array for the group of each atom\n",
    "            d.append(k)\n",
    "            for j in range(len(lines1)): # going through potential groupmates\n",
    "                m=lines1[j] # particle\n",
    "                m_split = m.split()         \n",
    "                \n",
    "                if i != j and len(m) > 15 and check_ball(float(k_split[2]), float(k_split[3]), float(k_split[4]), \\\n",
    "                    float(m_split[2]), float(m_split[3]), float(m_split[4]), r):\n",
    "                    m2=lines2[j]\n",
    "                    m2_split = m2.split()\n",
    "                    if len(m2) > 15 and check_ball(float(k2_split[2]), float(k2_split[3]), float(k2_split[4]), \\\n",
    "                                                   float(m2_split[2]), float(m2_split[3]), float(m2_split[4]), r):\n",
    "                        d.append(m)\n",
    "                    # checking edges in filename2\n",
    "                    if edge_x2 != 0 or edge_y2 != 0 or edge_z2 != 0:\n",
    "                        if len(m2) > 15 and check_ball(edge_x2*CELL_SIZE + float(k2_split[2]), edge_y2*CELL_SIZE + float(k2_split[3]), edge_z2*CELL_SIZE + float(k2_split[4]), \\\n",
    "                                                   float(m2_split[2]), float(m2_split[3]), float(m2_split[4]), r):\n",
    "                            d.append(m)\n",
    "                \n",
    "                # checking edges in filename1\n",
    "                if edge_x != 0 or edge_y != 0 or edge_z != 0:\n",
    "                    if i != j and len(m) > 15 and check_ball(edge_x*CELL_SIZE + float(k_split[2]),edge_y*CELL_SIZE + float(k_split[3]),edge_z*CELL_SIZE + float(k_split[4]), \\\n",
    "                                                       float(m_split[2]), float(m_split[3]), float(m_split[4]), r):\n",
    "                        m2=lines2[j]\n",
    "                        m2_split = m2.split()\n",
    "                        if len(m2) > 15 and check_ball(float(k2_split[2]), float(k2_split[3]), float(k2_split[4]), \\\n",
    "                                                       float(m2_split[2]), float(m2_split[3]), float(m2_split[4]), r):\n",
    "                            d.append(m)\n",
    "                        if edge_x2 != 0 or edge_y2 != 0 or edge_z2 != 0:\n",
    "                            if len(m2) > 15 and check_ball(edge_x2*CELL_SIZE + float(k2_split[2]), edge_y2*CELL_SIZE + float(k2_split[3]), edge_z2*CELL_SIZE + float(k2_split[4]), \\\n",
    "                                                       float(m2_split[2]), float(m2_split[3]), float(m2_split[4]), r):\n",
    "                                d.append(m)\n",
    "            data.append(d)\n",
    "    data.sort(key=sortarg)\n",
    "    return data"
   ]
  },
  {
   "cell_type": "markdown",
   "id": "widespread-samuel",
   "metadata": {},
   "source": [
    "### Alexander's function for analysis of bonded particles:"
   ]
  },
  {
   "cell_type": "code",
   "execution_count": 6,
   "id": "broken-genre",
   "metadata": {},
   "outputs": [],
   "source": [
    "def calculate(mydata):\n",
    "    quantity_E=0 #количество электронов\n",
    "    quantity_Hp=0 #количество ионов водорода\n",
    "    quantity_H1=0 #количество H1\n",
    "    quantity_H2=0 #количество H2\n",
    "    quantity_N=0 #количество неопределенных атомов\n",
    "    for i in range (len(mydata)):\n",
    "        N=0\n",
    "        for j in range (len(mydata[i])):\n",
    "            N+=int(mydata[i][j].split()[1])\n",
    "        if N==6 and len(mydata[i])==4:\n",
    "            quantity_H2+=1\n",
    "        elif N==3 and len(mydata[i])==2:\n",
    "            quantity_H1+=1\n",
    "        elif N==1:\n",
    "            quantity_Hp+=1\n",
    "        elif N==2 and len(mydata[i])==1:\n",
    "            quantity_E+=1\n",
    "        \n",
    "    quantity_N=2000-quantity_Hp-quantity_E-quantity_H1-quantity_H2          \n",
    "    \n",
    "    return quantity_H2, quantity_Hp, quantity_E, quantity_H1, quantity_N"
   ]
  },
  {
   "cell_type": "markdown",
   "id": "russian-gentleman",
   "metadata": {},
   "source": [
    "### Vika's function for plot making:"
   ]
  },
  {
   "cell_type": "code",
   "execution_count": 7,
   "id": "perfect-catholic",
   "metadata": {},
   "outputs": [],
   "source": [
    "def make_concentrations_arrays(N=5850000, step=100000):\n",
    "    i = 1000\n",
    "    h2 = []\n",
    "    hp = []\n",
    "    em = []\n",
    "    h = []\n",
    "    dfc = []\n",
    "    \n",
    "    folder_num = 0\n",
    "    read_data2 = []\n",
    "    step1 = 10000\n",
    "    while i <= N:\n",
    "        if (i >= folder_num + 1000000):\n",
    "            folder_num += 1000000\n",
    "        data1 = \"timesteps_tables_\" + str(folder_num) + \"/\" + str(i) + \".txt\"\n",
    "        \n",
    "        if (i+step1 >= folder_num + 1000000):\n",
    "            folder_num += 1000000\n",
    "        if (i+step1 > N):\n",
    "            return h2, hp, em, h, dfc\n",
    "        \n",
    "        \n",
    "        data2 = \"timesteps_tables_\" + str(folder_num) + \"/\" + str(i+step1) + \".txt\"\n",
    "        \n",
    "        read_data = read(data1, data2, 2)\n",
    "        comps = calculate(read_data)\n",
    "        h2.append(comps[0])\n",
    "        hp.append(comps[1])\n",
    "        em.append(comps[2])\n",
    "        h.append(comps[3])\n",
    "        dfc.append(comps[4])\n",
    "        print(\"done:\", i)\n",
    "        \n",
    "        i += step\n",
    "    \n",
    "    return h2, hp, em, h, dfc"
   ]
  },
  {
   "cell_type": "code",
   "execution_count": 8,
   "id": "otherwise-guinea",
   "metadata": {},
   "outputs": [
    {
     "name": "stdout",
     "output_type": "stream",
     "text": [
      "done: 1000\n",
      "done: 101000\n",
      "done: 201000\n",
      "done: 301000\n",
      "done: 401000\n",
      "done: 501000\n",
      "done: 601000\n",
      "done: 701000\n",
      "done: 801000\n",
      "done: 901000\n",
      "done: 1001000\n",
      "done: 1101000\n",
      "done: 1201000\n",
      "done: 1301000\n",
      "done: 1401000\n",
      "done: 1501000\n",
      "done: 1601000\n",
      "done: 1701000\n",
      "done: 1801000\n",
      "done: 1901000\n",
      "done: 2001000\n",
      "done: 2101000\n",
      "done: 2201000\n",
      "done: 2301000\n",
      "done: 2401000\n",
      "done: 2501000\n",
      "done: 2601000\n",
      "done: 2701000\n",
      "done: 2801000\n",
      "done: 2901000\n",
      "done: 3001000\n",
      "done: 3101000\n",
      "done: 3201000\n",
      "done: 3301000\n",
      "done: 3401000\n",
      "done: 3501000\n",
      "done: 3601000\n",
      "done: 3701000\n",
      "done: 3801000\n",
      "done: 3901000\n",
      "done: 4001000\n",
      "done: 4101000\n",
      "done: 4201000\n",
      "done: 4301000\n",
      "done: 4401000\n",
      "done: 4501000\n",
      "done: 4601000\n",
      "done: 4701000\n",
      "done: 4801000\n",
      "done: 4901000\n",
      "done: 5001000\n",
      "done: 5101000\n",
      "done: 5201000\n",
      "done: 5301000\n",
      "done: 5401000\n",
      "done: 5501000\n",
      "done: 5601000\n",
      "done: 5701000\n",
      "done: 5801000\n",
      "done with everything\n"
     ]
    }
   ],
   "source": [
    "h2, hp, em, h, dfc = make_concentrations_arrays()\n",
    "print(\"done with everything\")"
   ]
  },
  {
   "cell_type": "code",
   "execution_count": 11,
   "id": "daily-pointer",
   "metadata": {},
   "outputs": [
    {
     "data": {
      "application/vnd.plotly.v1+json": {
       "config": {
        "plotlyServerURL": "https://plot.ly"
       },
       "data": [
        {
         "name": "H_2 (molecular)",
         "type": "scatter",
         "x": [
          1000,
          101000,
          201000,
          301000,
          401000,
          501000,
          601000,
          701000,
          801000,
          901000,
          1001000,
          1101000,
          1201000,
          1301000,
          1401000,
          1501000,
          1601000,
          1701000,
          1801000,
          1901000,
          2001000,
          2101000,
          2201000,
          2301000,
          2401000,
          2501000,
          2601000,
          2701000,
          2801000,
          2901000,
          3001000,
          3101000,
          3201000,
          3301000,
          3401000,
          3501000,
          3601000,
          3701000,
          3801000,
          3901000,
          4001000,
          4101000,
          4201000,
          4301000,
          4401000,
          4501000,
          4601000,
          4701000,
          4801000,
          4901000,
          5001000,
          5101000,
          5201000,
          5301000,
          5401000,
          5501000,
          5601000,
          5701000,
          5801000
         ],
         "y": [
          1929,
          1944,
          1933,
          1934,
          1939,
          1822,
          1639,
          1248,
          1416,
          1158,
          816,
          517,
          328,
          213,
          92,
          63,
          26,
          6,
          8,
          1,
          1,
          0,
          0,
          0,
          0,
          0,
          0,
          0,
          0,
          0,
          0,
          0,
          0,
          0,
          0,
          0,
          0,
          0,
          0,
          0,
          0,
          0,
          0,
          0,
          0,
          0,
          0,
          0,
          0,
          0,
          0,
          0,
          0,
          0,
          0,
          0,
          0,
          0,
          0
         ]
        },
        {
         "name": "Protons",
         "type": "scatter",
         "x": [
          1000,
          101000,
          201000,
          301000,
          401000,
          501000,
          601000,
          701000,
          801000,
          901000,
          1001000,
          1101000,
          1201000,
          1301000,
          1401000,
          1501000,
          1601000,
          1701000,
          1801000,
          1901000,
          2001000,
          2101000,
          2201000,
          2301000,
          2401000,
          2501000,
          2601000,
          2701000,
          2801000,
          2901000,
          3001000,
          3101000,
          3201000,
          3301000,
          3401000,
          3501000,
          3601000,
          3701000,
          3801000,
          3901000,
          4001000,
          4101000,
          4201000,
          4301000,
          4401000,
          4501000,
          4601000,
          4701000,
          4801000,
          4901000,
          5001000,
          5101000,
          5201000,
          5301000,
          5401000,
          5501000,
          5601000,
          5701000,
          5801000
         ],
         "y": [
          15,
          12,
          17,
          18,
          12,
          38,
          84,
          177,
          124,
          136,
          260,
          338,
          436,
          494,
          597,
          686,
          742,
          821,
          838,
          869,
          908,
          927,
          915,
          956,
          960,
          969,
          972,
          991,
          985,
          977,
          980,
          980,
          992,
          991,
          987,
          988,
          993,
          991,
          989,
          990,
          996,
          989,
          993,
          986,
          993,
          986,
          994,
          991,
          993,
          987,
          992,
          994,
          992,
          990,
          996,
          999,
          994,
          993,
          998
         ]
        },
        {
         "name": "Electrons",
         "type": "scatter",
         "x": [
          1000,
          101000,
          201000,
          301000,
          401000,
          501000,
          601000,
          701000,
          801000,
          901000,
          1001000,
          1101000,
          1201000,
          1301000,
          1401000,
          1501000,
          1601000,
          1701000,
          1801000,
          1901000,
          2001000,
          2101000,
          2201000,
          2301000,
          2401000,
          2501000,
          2601000,
          2701000,
          2801000,
          2901000,
          3001000,
          3101000,
          3201000,
          3301000,
          3401000,
          3501000,
          3601000,
          3701000,
          3801000,
          3901000,
          4001000,
          4101000,
          4201000,
          4301000,
          4401000,
          4501000,
          4601000,
          4701000,
          4801000,
          4901000,
          5001000,
          5101000,
          5201000,
          5301000,
          5401000,
          5501000,
          5601000,
          5701000,
          5801000
         ],
         "y": [
          0,
          0,
          0,
          0,
          0,
          0,
          0,
          1,
          7,
          19,
          72,
          126,
          226,
          307,
          425,
          559,
          647,
          726,
          756,
          831,
          887,
          900,
          898,
          943,
          951,
          964,
          960,
          977,
          979,
          976,
          979,
          978,
          986,
          980,
          988,
          988,
          991,
          986,
          991,
          990,
          993,
          987,
          991,
          988,
          991,
          983,
          991,
          989,
          991,
          991,
          996,
          992,
          996,
          987,
          996,
          997,
          994,
          995,
          998
         ]
        },
        {
         "name": "H (atomic)",
         "type": "scatter",
         "x": [
          1000,
          101000,
          201000,
          301000,
          401000,
          501000,
          601000,
          701000,
          801000,
          901000,
          1001000,
          1101000,
          1201000,
          1301000,
          1401000,
          1501000,
          1601000,
          1701000,
          1801000,
          1901000,
          2001000,
          2101000,
          2201000,
          2301000,
          2401000,
          2501000,
          2601000,
          2701000,
          2801000,
          2901000,
          3001000,
          3101000,
          3201000,
          3301000,
          3401000,
          3501000,
          3601000,
          3701000,
          3801000,
          3901000,
          4001000,
          4101000,
          4201000,
          4301000,
          4401000,
          4501000,
          4601000,
          4701000,
          4801000,
          4901000,
          5001000,
          5101000,
          5201000,
          5301000,
          5401000,
          5501000,
          5601000,
          5701000,
          5801000
         ],
         "y": [
          0,
          0,
          0,
          0,
          0,
          0,
          0,
          4,
          35,
          226,
          220,
          351,
          403,
          432,
          451,
          396,
          385,
          303,
          266,
          210,
          143,
          119,
          145,
          81,
          64,
          52,
          50,
          18,
          25,
          40,
          38,
          36,
          16,
          18,
          14,
          20,
          14,
          18,
          18,
          20,
          9,
          22,
          14,
          16,
          14,
          24,
          11,
          18,
          14,
          14,
          8,
          8,
          8,
          18,
          8,
          2,
          8,
          10,
          4
         ]
        },
        {
         "name": "Not defined",
         "type": "scatter",
         "x": [
          1000,
          101000,
          201000,
          301000,
          401000,
          501000,
          601000,
          701000,
          801000,
          901000,
          1001000,
          1101000,
          1201000,
          1301000,
          1401000,
          1501000,
          1601000,
          1701000,
          1801000,
          1901000,
          2001000,
          2101000,
          2201000,
          2301000,
          2401000,
          2501000,
          2601000,
          2701000,
          2801000,
          2901000,
          3001000,
          3101000,
          3201000,
          3301000,
          3401000,
          3501000,
          3601000,
          3701000,
          3801000,
          3901000,
          4001000,
          4101000,
          4201000,
          4301000,
          4401000,
          4501000,
          4601000,
          4701000,
          4801000,
          4901000,
          5001000,
          5101000,
          5201000,
          5301000,
          5401000,
          5501000,
          5601000,
          5701000,
          5801000
         ],
         "y": [
          56,
          44,
          50,
          48,
          49,
          140,
          277,
          570,
          418,
          461,
          632,
          668,
          607,
          554,
          435,
          296,
          200,
          144,
          132,
          89,
          61,
          54,
          42,
          20,
          25,
          15,
          18,
          14,
          11,
          7,
          3,
          6,
          6,
          11,
          11,
          4,
          2,
          5,
          2,
          0,
          2,
          2,
          2,
          10,
          2,
          7,
          4,
          2,
          2,
          8,
          4,
          6,
          4,
          5,
          0,
          2,
          4,
          2,
          0
         ]
        }
       ],
       "layout": {
        "autosize": true,
        "template": {
         "data": {
          "bar": [
           {
            "error_x": {
             "color": "#2a3f5f"
            },
            "error_y": {
             "color": "#2a3f5f"
            },
            "marker": {
             "line": {
              "color": "#E5ECF6",
              "width": 0.5
             }
            },
            "type": "bar"
           }
          ],
          "barpolar": [
           {
            "marker": {
             "line": {
              "color": "#E5ECF6",
              "width": 0.5
             }
            },
            "type": "barpolar"
           }
          ],
          "carpet": [
           {
            "aaxis": {
             "endlinecolor": "#2a3f5f",
             "gridcolor": "white",
             "linecolor": "white",
             "minorgridcolor": "white",
             "startlinecolor": "#2a3f5f"
            },
            "baxis": {
             "endlinecolor": "#2a3f5f",
             "gridcolor": "white",
             "linecolor": "white",
             "minorgridcolor": "white",
             "startlinecolor": "#2a3f5f"
            },
            "type": "carpet"
           }
          ],
          "choropleth": [
           {
            "colorbar": {
             "outlinewidth": 0,
             "ticks": ""
            },
            "type": "choropleth"
           }
          ],
          "contour": [
           {
            "colorbar": {
             "outlinewidth": 0,
             "ticks": ""
            },
            "colorscale": [
             [
              0,
              "#0d0887"
             ],
             [
              0.1111111111111111,
              "#46039f"
             ],
             [
              0.2222222222222222,
              "#7201a8"
             ],
             [
              0.3333333333333333,
              "#9c179e"
             ],
             [
              0.4444444444444444,
              "#bd3786"
             ],
             [
              0.5555555555555556,
              "#d8576b"
             ],
             [
              0.6666666666666666,
              "#ed7953"
             ],
             [
              0.7777777777777778,
              "#fb9f3a"
             ],
             [
              0.8888888888888888,
              "#fdca26"
             ],
             [
              1,
              "#f0f921"
             ]
            ],
            "type": "contour"
           }
          ],
          "contourcarpet": [
           {
            "colorbar": {
             "outlinewidth": 0,
             "ticks": ""
            },
            "type": "contourcarpet"
           }
          ],
          "heatmap": [
           {
            "colorbar": {
             "outlinewidth": 0,
             "ticks": ""
            },
            "colorscale": [
             [
              0,
              "#0d0887"
             ],
             [
              0.1111111111111111,
              "#46039f"
             ],
             [
              0.2222222222222222,
              "#7201a8"
             ],
             [
              0.3333333333333333,
              "#9c179e"
             ],
             [
              0.4444444444444444,
              "#bd3786"
             ],
             [
              0.5555555555555556,
              "#d8576b"
             ],
             [
              0.6666666666666666,
              "#ed7953"
             ],
             [
              0.7777777777777778,
              "#fb9f3a"
             ],
             [
              0.8888888888888888,
              "#fdca26"
             ],
             [
              1,
              "#f0f921"
             ]
            ],
            "type": "heatmap"
           }
          ],
          "heatmapgl": [
           {
            "colorbar": {
             "outlinewidth": 0,
             "ticks": ""
            },
            "colorscale": [
             [
              0,
              "#0d0887"
             ],
             [
              0.1111111111111111,
              "#46039f"
             ],
             [
              0.2222222222222222,
              "#7201a8"
             ],
             [
              0.3333333333333333,
              "#9c179e"
             ],
             [
              0.4444444444444444,
              "#bd3786"
             ],
             [
              0.5555555555555556,
              "#d8576b"
             ],
             [
              0.6666666666666666,
              "#ed7953"
             ],
             [
              0.7777777777777778,
              "#fb9f3a"
             ],
             [
              0.8888888888888888,
              "#fdca26"
             ],
             [
              1,
              "#f0f921"
             ]
            ],
            "type": "heatmapgl"
           }
          ],
          "histogram": [
           {
            "marker": {
             "colorbar": {
              "outlinewidth": 0,
              "ticks": ""
             }
            },
            "type": "histogram"
           }
          ],
          "histogram2d": [
           {
            "colorbar": {
             "outlinewidth": 0,
             "ticks": ""
            },
            "colorscale": [
             [
              0,
              "#0d0887"
             ],
             [
              0.1111111111111111,
              "#46039f"
             ],
             [
              0.2222222222222222,
              "#7201a8"
             ],
             [
              0.3333333333333333,
              "#9c179e"
             ],
             [
              0.4444444444444444,
              "#bd3786"
             ],
             [
              0.5555555555555556,
              "#d8576b"
             ],
             [
              0.6666666666666666,
              "#ed7953"
             ],
             [
              0.7777777777777778,
              "#fb9f3a"
             ],
             [
              0.8888888888888888,
              "#fdca26"
             ],
             [
              1,
              "#f0f921"
             ]
            ],
            "type": "histogram2d"
           }
          ],
          "histogram2dcontour": [
           {
            "colorbar": {
             "outlinewidth": 0,
             "ticks": ""
            },
            "colorscale": [
             [
              0,
              "#0d0887"
             ],
             [
              0.1111111111111111,
              "#46039f"
             ],
             [
              0.2222222222222222,
              "#7201a8"
             ],
             [
              0.3333333333333333,
              "#9c179e"
             ],
             [
              0.4444444444444444,
              "#bd3786"
             ],
             [
              0.5555555555555556,
              "#d8576b"
             ],
             [
              0.6666666666666666,
              "#ed7953"
             ],
             [
              0.7777777777777778,
              "#fb9f3a"
             ],
             [
              0.8888888888888888,
              "#fdca26"
             ],
             [
              1,
              "#f0f921"
             ]
            ],
            "type": "histogram2dcontour"
           }
          ],
          "mesh3d": [
           {
            "colorbar": {
             "outlinewidth": 0,
             "ticks": ""
            },
            "type": "mesh3d"
           }
          ],
          "parcoords": [
           {
            "line": {
             "colorbar": {
              "outlinewidth": 0,
              "ticks": ""
             }
            },
            "type": "parcoords"
           }
          ],
          "pie": [
           {
            "automargin": true,
            "type": "pie"
           }
          ],
          "scatter": [
           {
            "marker": {
             "colorbar": {
              "outlinewidth": 0,
              "ticks": ""
             }
            },
            "type": "scatter"
           }
          ],
          "scatter3d": [
           {
            "line": {
             "colorbar": {
              "outlinewidth": 0,
              "ticks": ""
             }
            },
            "marker": {
             "colorbar": {
              "outlinewidth": 0,
              "ticks": ""
             }
            },
            "type": "scatter3d"
           }
          ],
          "scattercarpet": [
           {
            "marker": {
             "colorbar": {
              "outlinewidth": 0,
              "ticks": ""
             }
            },
            "type": "scattercarpet"
           }
          ],
          "scattergeo": [
           {
            "marker": {
             "colorbar": {
              "outlinewidth": 0,
              "ticks": ""
             }
            },
            "type": "scattergeo"
           }
          ],
          "scattergl": [
           {
            "marker": {
             "colorbar": {
              "outlinewidth": 0,
              "ticks": ""
             }
            },
            "type": "scattergl"
           }
          ],
          "scattermapbox": [
           {
            "marker": {
             "colorbar": {
              "outlinewidth": 0,
              "ticks": ""
             }
            },
            "type": "scattermapbox"
           }
          ],
          "scatterpolar": [
           {
            "marker": {
             "colorbar": {
              "outlinewidth": 0,
              "ticks": ""
             }
            },
            "type": "scatterpolar"
           }
          ],
          "scatterpolargl": [
           {
            "marker": {
             "colorbar": {
              "outlinewidth": 0,
              "ticks": ""
             }
            },
            "type": "scatterpolargl"
           }
          ],
          "scatterternary": [
           {
            "marker": {
             "colorbar": {
              "outlinewidth": 0,
              "ticks": ""
             }
            },
            "type": "scatterternary"
           }
          ],
          "surface": [
           {
            "colorbar": {
             "outlinewidth": 0,
             "ticks": ""
            },
            "colorscale": [
             [
              0,
              "#0d0887"
             ],
             [
              0.1111111111111111,
              "#46039f"
             ],
             [
              0.2222222222222222,
              "#7201a8"
             ],
             [
              0.3333333333333333,
              "#9c179e"
             ],
             [
              0.4444444444444444,
              "#bd3786"
             ],
             [
              0.5555555555555556,
              "#d8576b"
             ],
             [
              0.6666666666666666,
              "#ed7953"
             ],
             [
              0.7777777777777778,
              "#fb9f3a"
             ],
             [
              0.8888888888888888,
              "#fdca26"
             ],
             [
              1,
              "#f0f921"
             ]
            ],
            "type": "surface"
           }
          ],
          "table": [
           {
            "cells": {
             "fill": {
              "color": "#EBF0F8"
             },
             "line": {
              "color": "white"
             }
            },
            "header": {
             "fill": {
              "color": "#C8D4E3"
             },
             "line": {
              "color": "white"
             }
            },
            "type": "table"
           }
          ]
         },
         "layout": {
          "annotationdefaults": {
           "arrowcolor": "#2a3f5f",
           "arrowhead": 0,
           "arrowwidth": 1
          },
          "autotypenumbers": "strict",
          "coloraxis": {
           "colorbar": {
            "outlinewidth": 0,
            "ticks": ""
           }
          },
          "colorscale": {
           "diverging": [
            [
             0,
             "#8e0152"
            ],
            [
             0.1,
             "#c51b7d"
            ],
            [
             0.2,
             "#de77ae"
            ],
            [
             0.3,
             "#f1b6da"
            ],
            [
             0.4,
             "#fde0ef"
            ],
            [
             0.5,
             "#f7f7f7"
            ],
            [
             0.6,
             "#e6f5d0"
            ],
            [
             0.7,
             "#b8e186"
            ],
            [
             0.8,
             "#7fbc41"
            ],
            [
             0.9,
             "#4d9221"
            ],
            [
             1,
             "#276419"
            ]
           ],
           "sequential": [
            [
             0,
             "#0d0887"
            ],
            [
             0.1111111111111111,
             "#46039f"
            ],
            [
             0.2222222222222222,
             "#7201a8"
            ],
            [
             0.3333333333333333,
             "#9c179e"
            ],
            [
             0.4444444444444444,
             "#bd3786"
            ],
            [
             0.5555555555555556,
             "#d8576b"
            ],
            [
             0.6666666666666666,
             "#ed7953"
            ],
            [
             0.7777777777777778,
             "#fb9f3a"
            ],
            [
             0.8888888888888888,
             "#fdca26"
            ],
            [
             1,
             "#f0f921"
            ]
           ],
           "sequentialminus": [
            [
             0,
             "#0d0887"
            ],
            [
             0.1111111111111111,
             "#46039f"
            ],
            [
             0.2222222222222222,
             "#7201a8"
            ],
            [
             0.3333333333333333,
             "#9c179e"
            ],
            [
             0.4444444444444444,
             "#bd3786"
            ],
            [
             0.5555555555555556,
             "#d8576b"
            ],
            [
             0.6666666666666666,
             "#ed7953"
            ],
            [
             0.7777777777777778,
             "#fb9f3a"
            ],
            [
             0.8888888888888888,
             "#fdca26"
            ],
            [
             1,
             "#f0f921"
            ]
           ]
          },
          "colorway": [
           "#636efa",
           "#EF553B",
           "#00cc96",
           "#ab63fa",
           "#FFA15A",
           "#19d3f3",
           "#FF6692",
           "#B6E880",
           "#FF97FF",
           "#FECB52"
          ],
          "font": {
           "color": "#2a3f5f"
          },
          "geo": {
           "bgcolor": "white",
           "lakecolor": "white",
           "landcolor": "#E5ECF6",
           "showlakes": true,
           "showland": true,
           "subunitcolor": "white"
          },
          "hoverlabel": {
           "align": "left"
          },
          "hovermode": "closest",
          "mapbox": {
           "style": "light"
          },
          "paper_bgcolor": "white",
          "plot_bgcolor": "#E5ECF6",
          "polar": {
           "angularaxis": {
            "gridcolor": "white",
            "linecolor": "white",
            "ticks": ""
           },
           "bgcolor": "#E5ECF6",
           "radialaxis": {
            "gridcolor": "white",
            "linecolor": "white",
            "ticks": ""
           }
          },
          "scene": {
           "xaxis": {
            "backgroundcolor": "#E5ECF6",
            "gridcolor": "white",
            "gridwidth": 2,
            "linecolor": "white",
            "showbackground": true,
            "ticks": "",
            "zerolinecolor": "white"
           },
           "yaxis": {
            "backgroundcolor": "#E5ECF6",
            "gridcolor": "white",
            "gridwidth": 2,
            "linecolor": "white",
            "showbackground": true,
            "ticks": "",
            "zerolinecolor": "white"
           },
           "zaxis": {
            "backgroundcolor": "#E5ECF6",
            "gridcolor": "white",
            "gridwidth": 2,
            "linecolor": "white",
            "showbackground": true,
            "ticks": "",
            "zerolinecolor": "white"
           }
          },
          "shapedefaults": {
           "line": {
            "color": "#2a3f5f"
           }
          },
          "ternary": {
           "aaxis": {
            "gridcolor": "white",
            "linecolor": "white",
            "ticks": ""
           },
           "baxis": {
            "gridcolor": "white",
            "linecolor": "white",
            "ticks": ""
           },
           "bgcolor": "#E5ECF6",
           "caxis": {
            "gridcolor": "white",
            "linecolor": "white",
            "ticks": ""
           }
          },
          "title": {
           "x": 0.05
          },
          "xaxis": {
           "automargin": true,
           "gridcolor": "white",
           "linecolor": "white",
           "ticks": "",
           "title": {
            "standoff": 15
           },
           "zerolinecolor": "white",
           "zerolinewidth": 2
          },
          "yaxis": {
           "automargin": true,
           "gridcolor": "white",
           "linecolor": "white",
           "ticks": "",
           "title": {
            "standoff": 15
           },
           "zerolinecolor": "white",
           "zerolinewidth": 2
          }
         }
        },
        "title": {
         "text": "Concentration of components on different timesteps"
        },
        "xaxis": {
         "range": [
          1000,
          5850000
         ],
         "title": {
          "text": "Timestep"
         },
         "type": "linear"
        },
        "yaxis": {
         "autorange": true,
         "range": [
          -108,
          2052
         ],
         "title": {
          "text": "Number of particles"
         },
         "type": "linear"
        }
       }
      },
      "image/png": "[encoded data removed]",
      "text/html": [
       "<div>                            <div id=\"c514ac7d-e3eb-4bf5-8d7d-a973c7e375d1\" class=\"plotly-graph-div\" style=\"height:525px; width:100%;\"></div>            <script type=\"text/javascript\">                require([\"plotly\"], function(Plotly) {                    window.PLOTLYENV=window.PLOTLYENV || {};                                    if (document.getElementById(\"c514ac7d-e3eb-4bf5-8d7d-a973c7e375d1\")) {                    Plotly.newPlot(                        \"c514ac7d-e3eb-4bf5-8d7d-a973c7e375d1\",                        [{\"name\": \"H_2 (molecular)\", \"type\": \"scatter\", \"x\": [1000, 101000, 201000, 301000, 401000, 501000, 601000, 701000, 801000, 901000, 1001000, 1101000, 1201000, 1301000, 1401000, 1501000, 1601000, 1701000, 1801000, 1901000, 2001000, 2101000, 2201000, 2301000, 2401000, 2501000, 2601000, 2701000, 2801000, 2901000, 3001000, 3101000, 3201000, 3301000, 3401000, 3501000, 3601000, 3701000, 3801000, 3901000, 4001000, 4101000, 4201000, 4301000, 4401000, 4501000, 4601000, 4701000, 4801000, 4901000, 5001000, 5101000, 5201000, 5301000, 5401000, 5501000, 5601000, 5701000, 5801000], \"y\": [1929, 1944, 1933, 1934, 1939, 1822, 1639, 1248, 1416, 1158, 816, 517, 328, 213, 92, 63, 26, 6, 8, 1, 1, 0, 0, 0, 0, 0, 0, 0, 0, 0, 0, 0, 0, 0, 0, 0, 0, 0, 0, 0, 0, 0, 0, 0, 0, 0, 0, 0, 0, 0, 0, 0, 0, 0, 0, 0, 0, 0, 0]}, {\"name\": \"Protons\", \"type\": \"scatter\", \"x\": [1000, 101000, 201000, 301000, 401000, 501000, 601000, 701000, 801000, 901000, 1001000, 1101000, 1201000, 1301000, 1401000, 1501000, 1601000, 1701000, 1801000, 1901000, 2001000, 2101000, 2201000, 2301000, 2401000, 2501000, 2601000, 2701000, 2801000, 2901000, 3001000, 3101000, 3201000, 3301000, 3401000, 3501000, 3601000, 3701000, 3801000, 3901000, 4001000, 4101000, 4201000, 4301000, 4401000, 4501000, 4601000, 4701000, 4801000, 4901000, 5001000, 5101000, 5201000, 5301000, 5401000, 5501000, 5601000, 5701000, 5801000], \"y\": [15, 12, 17, 18, 12, 38, 84, 177, 124, 136, 260, 338, 436, 494, 597, 686, 742, 821, 838, 869, 908, 927, 915, 956, 960, 969, 972, 991, 985, 977, 980, 980, 992, 991, 987, 988, 993, 991, 989, 990, 996, 989, 993, 986, 993, 986, 994, 991, 993, 987, 992, 994, 992, 990, 996, 999, 994, 993, 998]}, {\"name\": \"Electrons\", \"type\": \"scatter\", \"x\": [1000, 101000, 201000, 301000, 401000, 501000, 601000, 701000, 801000, 901000, 1001000, 1101000, 1201000, 1301000, 1401000, 1501000, 1601000, 1701000, 1801000, 1901000, 2001000, 2101000, 2201000, 2301000, 2401000, 2501000, 2601000, 2701000, 2801000, 2901000, 3001000, 3101000, 3201000, 3301000, 3401000, 3501000, 3601000, 3701000, 3801000, 3901000, 4001000, 4101000, 4201000, 4301000, 4401000, 4501000, 4601000, 4701000, 4801000, 4901000, 5001000, 5101000, 5201000, 5301000, 5401000, 5501000, 5601000, 5701000, 5801000], \"y\": [0, 0, 0, 0, 0, 0, 0, 1, 7, 19, 72, 126, 226, 307, 425, 559, 647, 726, 756, 831, 887, 900, 898, 943, 951, 964, 960, 977, 979, 976, 979, 978, 986, 980, 988, 988, 991, 986, 991, 990, 993, 987, 991, 988, 991, 983, 991, 989, 991, 991, 996, 992, 996, 987, 996, 997, 994, 995, 998]}, {\"name\": \"H (atomic)\", \"type\": \"scatter\", \"x\": [1000, 101000, 201000, 301000, 401000, 501000, 601000, 701000, 801000, 901000, 1001000, 1101000, 1201000, 1301000, 1401000, 1501000, 1601000, 1701000, 1801000, 1901000, 2001000, 2101000, 2201000, 2301000, 2401000, 2501000, 2601000, 2701000, 2801000, 2901000, 3001000, 3101000, 3201000, 3301000, 3401000, 3501000, 3601000, 3701000, 3801000, 3901000, 4001000, 4101000, 4201000, 4301000, 4401000, 4501000, 4601000, 4701000, 4801000, 4901000, 5001000, 5101000, 5201000, 5301000, 5401000, 5501000, 5601000, 5701000, 5801000], \"y\": [0, 0, 0, 0, 0, 0, 0, 4, 35, 226, 220, 351, 403, 432, 451, 396, 385, 303, 266, 210, 143, 119, 145, 81, 64, 52, 50, 18, 25, 40, 38, 36, 16, 18, 14, 20, 14, 18, 18, 20, 9, 22, 14, 16, 14, 24, 11, 18, 14, 14, 8, 8, 8, 18, 8, 2, 8, 10, 4]}, {\"name\": \"Not defined\", \"type\": \"scatter\", \"x\": [1000, 101000, 201000, 301000, 401000, 501000, 601000, 701000, 801000, 901000, 1001000, 1101000, 1201000, 1301000, 1401000, 1501000, 1601000, 1701000, 1801000, 1901000, 2001000, 2101000, 2201000, 2301000, 2401000, 2501000, 2601000, 2701000, 2801000, 2901000, 3001000, 3101000, 3201000, 3301000, 3401000, 3501000, 3601000, 3701000, 3801000, 3901000, 4001000, 4101000, 4201000, 4301000, 4401000, 4501000, 4601000, 4701000, 4801000, 4901000, 5001000, 5101000, 5201000, 5301000, 5401000, 5501000, 5601000, 5701000, 5801000], \"y\": [56, 44, 50, 48, 49, 140, 277, 570, 418, 461, 632, 668, 607, 554, 435, 296, 200, 144, 132, 89, 61, 54, 42, 20, 25, 15, 18, 14, 11, 7, 3, 6, 6, 11, 11, 4, 2, 5, 2, 0, 2, 2, 2, 10, 2, 7, 4, 2, 2, 8, 4, 6, 4, 5, 0, 2, 4, 2, 0]}],                        {\"template\": {\"data\": {\"bar\": [{\"error_x\": {\"color\": \"#2a3f5f\"}, \"error_y\": {\"color\": \"#2a3f5f\"}, \"marker\": {\"line\": {\"color\": \"#E5ECF6\", \"width\": 0.5}}, \"type\": \"bar\"}], \"barpolar\": [{\"marker\": {\"line\": {\"color\": \"#E5ECF6\", \"width\": 0.5}}, \"type\": \"barpolar\"}], \"carpet\": [{\"aaxis\": {\"endlinecolor\": \"#2a3f5f\", \"gridcolor\": \"white\", \"linecolor\": \"white\", \"minorgridcolor\": \"white\", \"startlinecolor\": \"#2a3f5f\"}, \"baxis\": {\"endlinecolor\": \"#2a3f5f\", \"gridcolor\": \"white\", \"linecolor\": \"white\", \"minorgridcolor\": \"white\", \"startlinecolor\": \"#2a3f5f\"}, \"type\": \"carpet\"}], \"choropleth\": [{\"colorbar\": {\"outlinewidth\": 0, \"ticks\": \"\"}, \"type\": \"choropleth\"}], \"contour\": [{\"colorbar\": {\"outlinewidth\": 0, \"ticks\": \"\"}, \"colorscale\": [[0.0, \"#0d0887\"], [0.1111111111111111, \"#46039f\"], [0.2222222222222222, \"#7201a8\"], [0.3333333333333333, \"#9c179e\"], [0.4444444444444444, \"#bd3786\"], [0.5555555555555556, \"#d8576b\"], [0.6666666666666666, \"#ed7953\"], [0.7777777777777778, \"#fb9f3a\"], [0.8888888888888888, \"#fdca26\"], [1.0, \"#f0f921\"]], \"type\": \"contour\"}], \"contourcarpet\": [{\"colorbar\": {\"outlinewidth\": 0, \"ticks\": \"\"}, \"type\": \"contourcarpet\"}], \"heatmap\": [{\"colorbar\": {\"outlinewidth\": 0, \"ticks\": \"\"}, \"colorscale\": [[0.0, \"#0d0887\"], [0.1111111111111111, \"#46039f\"], [0.2222222222222222, \"#7201a8\"], [0.3333333333333333, \"#9c179e\"], [0.4444444444444444, \"#bd3786\"], [0.5555555555555556, \"#d8576b\"], [0.6666666666666666, \"#ed7953\"], [0.7777777777777778, \"#fb9f3a\"], [0.8888888888888888, \"#fdca26\"], [1.0, \"#f0f921\"]], \"type\": \"heatmap\"}], \"heatmapgl\": [{\"colorbar\": {\"outlinewidth\": 0, \"ticks\": \"\"}, \"colorscale\": [[0.0, \"#0d0887\"], [0.1111111111111111, \"#46039f\"], [0.2222222222222222, \"#7201a8\"], [0.3333333333333333, \"#9c179e\"], [0.4444444444444444, \"#bd3786\"], [0.5555555555555556, \"#d8576b\"], [0.6666666666666666, \"#ed7953\"], [0.7777777777777778, \"#fb9f3a\"], [0.8888888888888888, \"#fdca26\"], [1.0, \"#f0f921\"]], \"type\": \"heatmapgl\"}], \"histogram\": [{\"marker\": {\"colorbar\": {\"outlinewidth\": 0, \"ticks\": \"\"}}, \"type\": \"histogram\"}], \"histogram2d\": [{\"colorbar\": {\"outlinewidth\": 0, \"ticks\": \"\"}, \"colorscale\": [[0.0, \"#0d0887\"], [0.1111111111111111, \"#46039f\"], [0.2222222222222222, \"#7201a8\"], [0.3333333333333333, \"#9c179e\"], [0.4444444444444444, \"#bd3786\"], [0.5555555555555556, \"#d8576b\"], [0.6666666666666666, \"#ed7953\"], [0.7777777777777778, \"#fb9f3a\"], [0.8888888888888888, \"#fdca26\"], [1.0, \"#f0f921\"]], \"type\": \"histogram2d\"}], \"histogram2dcontour\": [{\"colorbar\": {\"outlinewidth\": 0, \"ticks\": \"\"}, \"colorscale\": [[0.0, \"#0d0887\"], [0.1111111111111111, \"#46039f\"], [0.2222222222222222, \"#7201a8\"], [0.3333333333333333, \"#9c179e\"], [0.4444444444444444, \"#bd3786\"], [0.5555555555555556, \"#d8576b\"], [0.6666666666666666, \"#ed7953\"], [0.7777777777777778, \"#fb9f3a\"], [0.8888888888888888, \"#fdca26\"], [1.0, \"#f0f921\"]], \"type\": \"histogram2dcontour\"}], \"mesh3d\": [{\"colorbar\": {\"outlinewidth\": 0, \"ticks\": \"\"}, \"type\": \"mesh3d\"}], \"parcoords\": [{\"line\": {\"colorbar\": {\"outlinewidth\": 0, \"ticks\": \"\"}}, \"type\": \"parcoords\"}], \"pie\": [{\"automargin\": true, \"type\": \"pie\"}], \"scatter\": [{\"marker\": {\"colorbar\": {\"outlinewidth\": 0, \"ticks\": \"\"}}, \"type\": \"scatter\"}], \"scatter3d\": [{\"line\": {\"colorbar\": {\"outlinewidth\": 0, \"ticks\": \"\"}}, \"marker\": {\"colorbar\": {\"outlinewidth\": 0, \"ticks\": \"\"}}, \"type\": \"scatter3d\"}], \"scattercarpet\": [{\"marker\": {\"colorbar\": {\"outlinewidth\": 0, \"ticks\": \"\"}}, \"type\": \"scattercarpet\"}], \"scattergeo\": [{\"marker\": {\"colorbar\": {\"outlinewidth\": 0, \"ticks\": \"\"}}, \"type\": \"scattergeo\"}], \"scattergl\": [{\"marker\": {\"colorbar\": {\"outlinewidth\": 0, \"ticks\": \"\"}}, \"type\": \"scattergl\"}], \"scattermapbox\": [{\"marker\": {\"colorbar\": {\"outlinewidth\": 0, \"ticks\": \"\"}}, \"type\": \"scattermapbox\"}], \"scatterpolar\": [{\"marker\": {\"colorbar\": {\"outlinewidth\": 0, \"ticks\": \"\"}}, \"type\": \"scatterpolar\"}], \"scatterpolargl\": [{\"marker\": {\"colorbar\": {\"outlinewidth\": 0, \"ticks\": \"\"}}, \"type\": \"scatterpolargl\"}], \"scatterternary\": [{\"marker\": {\"colorbar\": {\"outlinewidth\": 0, \"ticks\": \"\"}}, \"type\": \"scatterternary\"}], \"surface\": [{\"colorbar\": {\"outlinewidth\": 0, \"ticks\": \"\"}, \"colorscale\": [[0.0, \"#0d0887\"], [0.1111111111111111, \"#46039f\"], [0.2222222222222222, \"#7201a8\"], [0.3333333333333333, \"#9c179e\"], [0.4444444444444444, \"#bd3786\"], [0.5555555555555556, \"#d8576b\"], [0.6666666666666666, \"#ed7953\"], [0.7777777777777778, \"#fb9f3a\"], [0.8888888888888888, \"#fdca26\"], [1.0, \"#f0f921\"]], \"type\": \"surface\"}], \"table\": [{\"cells\": {\"fill\": {\"color\": \"#EBF0F8\"}, \"line\": {\"color\": \"white\"}}, \"header\": {\"fill\": {\"color\": \"#C8D4E3\"}, \"line\": {\"color\": \"white\"}}, \"type\": \"table\"}]}, \"layout\": {\"annotationdefaults\": {\"arrowcolor\": \"#2a3f5f\", \"arrowhead\": 0, \"arrowwidth\": 1}, \"autotypenumbers\": \"strict\", \"coloraxis\": {\"colorbar\": {\"outlinewidth\": 0, \"ticks\": \"\"}}, \"colorscale\": {\"diverging\": [[0, \"#8e0152\"], [0.1, \"#c51b7d\"], [0.2, \"#de77ae\"], [0.3, \"#f1b6da\"], [0.4, \"#fde0ef\"], [0.5, \"#f7f7f7\"], [0.6, \"#e6f5d0\"], [0.7, \"#b8e186\"], [0.8, \"#7fbc41\"], [0.9, \"#4d9221\"], [1, \"#276419\"]], \"sequential\": [[0.0, \"#0d0887\"], [0.1111111111111111, \"#46039f\"], [0.2222222222222222, \"#7201a8\"], [0.3333333333333333, \"#9c179e\"], [0.4444444444444444, \"#bd3786\"], [0.5555555555555556, \"#d8576b\"], [0.6666666666666666, \"#ed7953\"], [0.7777777777777778, \"#fb9f3a\"], [0.8888888888888888, \"#fdca26\"], [1.0, \"#f0f921\"]], \"sequentialminus\": [[0.0, \"#0d0887\"], [0.1111111111111111, \"#46039f\"], [0.2222222222222222, \"#7201a8\"], [0.3333333333333333, \"#9c179e\"], [0.4444444444444444, \"#bd3786\"], [0.5555555555555556, \"#d8576b\"], [0.6666666666666666, \"#ed7953\"], [0.7777777777777778, \"#fb9f3a\"], [0.8888888888888888, \"#fdca26\"], [1.0, \"#f0f921\"]]}, \"colorway\": [\"#636efa\", \"#EF553B\", \"#00cc96\", \"#ab63fa\", \"#FFA15A\", \"#19d3f3\", \"#FF6692\", \"#B6E880\", \"#FF97FF\", \"#FECB52\"], \"font\": {\"color\": \"#2a3f5f\"}, \"geo\": {\"bgcolor\": \"white\", \"lakecolor\": \"white\", \"landcolor\": \"#E5ECF6\", \"showlakes\": true, \"showland\": true, \"subunitcolor\": \"white\"}, \"hoverlabel\": {\"align\": \"left\"}, \"hovermode\": \"closest\", \"mapbox\": {\"style\": \"light\"}, \"paper_bgcolor\": \"white\", \"plot_bgcolor\": \"#E5ECF6\", \"polar\": {\"angularaxis\": {\"gridcolor\": \"white\", \"linecolor\": \"white\", \"ticks\": \"\"}, \"bgcolor\": \"#E5ECF6\", \"radialaxis\": {\"gridcolor\": \"white\", \"linecolor\": \"white\", \"ticks\": \"\"}}, \"scene\": {\"xaxis\": {\"backgroundcolor\": \"#E5ECF6\", \"gridcolor\": \"white\", \"gridwidth\": 2, \"linecolor\": \"white\", \"showbackground\": true, \"ticks\": \"\", \"zerolinecolor\": \"white\"}, \"yaxis\": {\"backgroundcolor\": \"#E5ECF6\", \"gridcolor\": \"white\", \"gridwidth\": 2, \"linecolor\": \"white\", \"showbackground\": true, \"ticks\": \"\", \"zerolinecolor\": \"white\"}, \"zaxis\": {\"backgroundcolor\": \"#E5ECF6\", \"gridcolor\": \"white\", \"gridwidth\": 2, \"linecolor\": \"white\", \"showbackground\": true, \"ticks\": \"\", \"zerolinecolor\": \"white\"}}, \"shapedefaults\": {\"line\": {\"color\": \"#2a3f5f\"}}, \"ternary\": {\"aaxis\": {\"gridcolor\": \"white\", \"linecolor\": \"white\", \"ticks\": \"\"}, \"baxis\": {\"gridcolor\": \"white\", \"linecolor\": \"white\", \"ticks\": \"\"}, \"bgcolor\": \"#E5ECF6\", \"caxis\": {\"gridcolor\": \"white\", \"linecolor\": \"white\", \"ticks\": \"\"}}, \"title\": {\"x\": 0.05}, \"xaxis\": {\"automargin\": true, \"gridcolor\": \"white\", \"linecolor\": \"white\", \"ticks\": \"\", \"title\": {\"standoff\": 15}, \"zerolinecolor\": \"white\", \"zerolinewidth\": 2}, \"yaxis\": {\"automargin\": true, \"gridcolor\": \"white\", \"linecolor\": \"white\", \"ticks\": \"\", \"title\": {\"standoff\": 15}, \"zerolinecolor\": \"white\", \"zerolinewidth\": 2}}}, \"title\": {\"text\": \"Concentration of components on different timesteps\"}, \"xaxis\": {\"range\": [1000, 5850000], \"title\": {\"text\": \"Timestep\"}}, \"yaxis\": {\"title\": {\"text\": \"Number of particles\"}}},                        {\"responsive\": true}                    ).then(function(){\n",
       "                            \n",
       "var gd = document.getElementById('c514ac7d-e3eb-4bf5-8d7d-a973c7e375d1');\n",
       "var x = new MutationObserver(function (mutations, observer) {{\n",
       "        var display = window.getComputedStyle(gd).display;\n",
       "        if (!display || display === 'none') {{\n",
       "            console.log([gd, 'removed!']);\n",
       "            Plotly.purge(gd);\n",
       "            observer.disconnect();\n",
       "        }}\n",
       "}});\n",
       "\n",
       "// Listen for the removal of the full notebook cells\n",
       "var notebookContainer = gd.closest('#notebook-container');\n",
       "if (notebookContainer) {{\n",
       "    x.observe(notebookContainer, {childList: true});\n",
       "}}\n",
       "\n",
       "// Listen for the clearing of the current output cell\n",
       "var outputEl = gd.closest('.output');\n",
       "if (outputEl) {{\n",
       "    x.observe(outputEl, {childList: true});\n",
       "}}\n",
       "\n",
       "                        })                };                });            </script>        </div>"
      ]
     },
     "metadata": {},
     "output_type": "display_data"
    }
   ],
   "source": [
    "N = 5850000\n",
    "step = 100000\n",
    "timesteps = np.arange(1000, 5850000, step)\n",
    "\n",
    "fig = go.Figure()\n",
    "\n",
    "fig.update_layout(title=\"Concentration of components on different timesteps\")\n",
    "fig.update_yaxes(title=\"Number of particles\")\n",
    "fig.update_xaxes(range=[1000, N], title=\"Timestep\")\n",
    "fig.add_trace(go.Scatter(x=timesteps, y=h2, name=\"H_2 (molecular)\"))\n",
    "fig.add_trace(go.Scatter(x=timesteps, y=hp, name=\"Protons\"))\n",
    "fig.add_trace(go.Scatter(x=timesteps, y=em, name=\"Electrons\"))\n",
    "fig.add_trace(go.Scatter(x=timesteps, y=h, name=\"H (atomic)\"))\n",
    "fig.add_trace(go.Scatter(x=timesteps, y=dfc, name=\"Not defined\"))\n",
    "\n",
    "fig.show()"
   ]
  },
  {
   "cell_type": "code",
   "execution_count": null,
   "id": "celtic-lodge",
   "metadata": {},
   "outputs": [],
   "source": []
  }
 ],
 "metadata": {
  "kernelspec": {
   "display_name": "Python 3",
   "language": "python",
   "name": "python3"
  },
  "language_info": {
   "codemirror_mode": {
    "name": "ipython",
    "version": 3
   },
   "file_extension": ".py",
   "mimetype": "text/x-python",
   "name": "python",
   "nbconvert_exporter": "python",
   "pygments_lexer": "ipython3",
   "version": "3.9.2"
  }
 },
 "nbformat": 4,
 "nbformat_minor": 5
}
