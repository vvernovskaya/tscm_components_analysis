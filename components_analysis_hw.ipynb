{
 "cells": [
  {
   "cell_type": "markdown",
   "id": "intermediate-context",
   "metadata": {},
   "source": [
    "## Here is the code for analysis of components of hydrogen on different timesteps (reviewed and edited by Nikita)"
   ]
  },
  {
   "cell_type": "code",
   "execution_count": 5,
   "id": "preliminary-austria",
   "metadata": {},
   "outputs": [],
   "source": [
    "import numpy as np\n",
    "import plotly as ply\n",
    "import plotly.graph_objs as go"
   ]
  },
  {
   "cell_type": "code",
   "execution_count": 6,
   "id": "professional-canberra",
   "metadata": {},
   "outputs": [],
   "source": [
    "def sortarg(it): #custom sortkey\n",
    "    return int(it[0].split()[0])\n",
    "def sortarg2(it): #custom sortkey\n",
    "    return int(it.split()[0])"
   ]
  },
  {
   "cell_type": "markdown",
   "id": "technical-worse",
   "metadata": {},
   "source": [
    "### Yegor's function for grouping the nearby particles: "
   ]
  },
  {
   "cell_type": "code",
   "execution_count": 7,
   "id": "italic-lover",
   "metadata": {},
   "outputs": [],
   "source": [
    "def read(filename1,filename2, r):\n",
    "    with open(filename1) as f1:\n",
    "        lines1 = f1.readlines()\n",
    "    with open(filename2) as f2:\n",
    "        lines2 = f2.readlines()\n",
    "    lines1.remove(lines1[0])\n",
    "    lines2.remove(lines2[0])    \n",
    "    lines1.sort(key=sortarg2)\n",
    "    lines2.sort(key=sortarg2)\n",
    "\n",
    "    data=[]\n",
    "    for i in range(len(lines1)):\n",
    "        if len(lines1[i]) > 15:\n",
    "            k=lines1[i]\n",
    "            k2=lines2[i]\n",
    "            d=[]\n",
    "            d.append(k)\n",
    "            for j in range(len(lines1)):\n",
    "                m=lines1[j]\n",
    "                if i!=j and len(m) > 15 and (float(m.split()[3])-float(k.split()[3]))**2+(float(m.split()[4])-float(k.split()[4]))**2+(float(m.split()[2])-float(k.split()[2]))**2 <= r**2:\n",
    "                    m2=lines2[j]\n",
    "                    if len(m2) > 15 and (float(m2.split()[3])-float(k2.split()[3]))**2+(float(m2.split()[4])-float(k2.split()[4]))**2+(float(m2.split()[2])-float(k2.split()[2]))**2 <= r**2:\n",
    "                        d.append(m)\n",
    "            data.append(d)\n",
    "    data.sort(key=sortarg)\n",
    "    return data"
   ]
  },
  {
   "cell_type": "markdown",
   "id": "natural-overview",
   "metadata": {},
   "source": [
    "### Alexander's function for analysis of bonded particles:"
   ]
  },
  {
   "cell_type": "code",
   "execution_count": 8,
   "id": "silver-economics",
   "metadata": {},
   "outputs": [],
   "source": [
    "def calculate(mydata):\n",
    "    quantity_E=0 #количество электронов\n",
    "    quantity_Hp=0 #количество ионов водорода\n",
    "    quantity_H1=0 #количество H1\n",
    "    quantity_H2=0 #количество H2\n",
    "    quantity_N=0 #количество неопределенных атомов\n",
    "    for i in range (len(mydata)):\n",
    "        N=0\n",
    "        for j in range (len(mydata[i])):\n",
    "            N+=int(mydata[i][j].split()[1])\n",
    "        if N==6 and len(mydata[i])==4:\n",
    "            quantity_H2+=1\n",
    "        elif N==3 and len(mydata[i])==2:\n",
    "            quantity_H1+=1\n",
    "        elif N==1:\n",
    "            quantity_Hp+=1\n",
    "        elif N==2 and len(mydata[i])==1:\n",
    "            quantity_E+=1\n",
    "        \n",
    "    quantity_N=2000-quantity_Hp-quantity_E-quantity_H1-quantity_H2          \n",
    "    \n",
    "    return quantity_H2, quantity_Hp, quantity_E, quantity_H1, quantity_N"
   ]
  },
  {
   "cell_type": "markdown",
   "id": "careful-slovak",
   "metadata": {},
   "source": [
    "### Vika's function for plot making:"
   ]
  },
  {
   "cell_type": "code",
   "execution_count": 9,
   "id": "thorough-affairs",
   "metadata": {},
   "outputs": [],
   "source": [
    "def make_concentrations_arrays(N=2283000, step=100000):\n",
    "    i = 1000\n",
    "    h2 = []\n",
    "    hp = []\n",
    "    em = []\n",
    "    h = []\n",
    "    dfc = []\n",
    "    \n",
    "    folder_num = 0\n",
    "    read_data2 = []\n",
    "    step1 = 10000\n",
    "    while i <= N:\n",
    "        if (i >= folder_num + 1000000):\n",
    "            folder_num += 1000000\n",
    "        data1 = \"timesteps_tables_\" + str(folder_num) + \"/\" + str(i) + \".txt\"\n",
    "        \n",
    "        if (i+step1 >= folder_num + 1000000):\n",
    "            folder_num += 1000000\n",
    "        if (i+step1 > N):\n",
    "            return h2, hp, em, h, dfc\n",
    "        \n",
    "        \n",
    "        data2 = \"timesteps_tables_\" + str(folder_num) + \"/\" + str(i+step1) + \".txt\"\n",
    "        \n",
    "        read_data = read(data1, data2, 2)\n",
    "        comps = calculate(read_data)\n",
    "        h2.append(comps[0])\n",
    "        hp.append(comps[1])\n",
    "        em.append(comps[2])\n",
    "        h.append(comps[3])\n",
    "        dfc.append(comps[4])\n",
    "        print(\"done:\", i)\n",
    "        \n",
    "        i += step\n",
    "    \n",
    "    return h2, hp, em, h, dfc"
   ]
  },
  {
   "cell_type": "code",
   "execution_count": 10,
   "id": "loved-herald",
   "metadata": {},
   "outputs": [
    {
     "name": "stdout",
     "output_type": "stream",
     "text": [
      "done: 1000\n",
      "done: 101000\n",
      "done: 201000\n",
      "done: 301000\n",
      "done: 401000\n",
      "done: 501000\n",
      "done: 601000\n",
      "done: 701000\n",
      "done: 801000\n",
      "done: 901000\n",
      "done: 1001000\n",
      "done: 1101000\n",
      "done: 1201000\n",
      "done: 1301000\n",
      "done: 1401000\n",
      "done: 1501000\n",
      "done: 1601000\n",
      "done: 1701000\n",
      "done: 1801000\n",
      "done: 1901000\n",
      "done: 2001000\n",
      "done: 2101000\n",
      "done: 2201000\n",
      "done with everything\n"
     ]
    }
   ],
   "source": [
    "h2, hp, em, h, dfc = make_concentrations_arrays()\n",
    "print(\"done with everything\")"
   ]
  },
  {
   "cell_type": "code",
   "execution_count": 13,
   "id": "cardiac-rouge",
   "metadata": {},
   "outputs": [
    {
     "data": {
      "application/vnd.plotly.v1+json": {
       "config": {
        "plotlyServerURL": "https://plot.ly"
       },
       "data": [
        {
         "name": "H_2 (molecular)",
         "type": "scatter",
         "x": [
          1000,
          101000,
          201000,
          301000,
          401000,
          501000,
          601000,
          701000,
          801000,
          901000,
          1001000,
          1101000,
          1201000,
          1301000,
          1401000,
          1501000,
          1601000,
          1701000,
          1801000,
          1901000,
          2001000,
          2101000
         ],
         "y": [
          1154,
          1424,
          1438,
          1420,
          1384,
          1390,
          1396,
          1396,
          1404,
          1436,
          1392,
          1396,
          1364,
          1372,
          1408,
          1368,
          1330,
          1346,
          1388,
          1362,
          1366,
          1412,
          1368
         ]
        },
        {
         "name": "Protons",
         "type": "scatter",
         "x": [
          1000,
          101000,
          201000,
          301000,
          401000,
          501000,
          601000,
          701000,
          801000,
          901000,
          1001000,
          1101000,
          1201000,
          1301000,
          1401000,
          1501000,
          1601000,
          1701000,
          1801000,
          1901000,
          2001000,
          2101000
         ],
         "y": [
          113,
          74,
          64,
          68,
          72,
          73,
          72,
          65,
          63,
          49,
          67,
          63,
          78,
          73,
          53,
          62,
          73,
          71,
          59,
          69,
          70,
          51,
          60
         ]
        },
        {
         "name": "Electrons",
         "type": "scatter",
         "x": [
          1000,
          101000,
          201000,
          301000,
          401000,
          501000,
          601000,
          701000,
          801000,
          901000,
          1001000,
          1101000,
          1201000,
          1301000,
          1401000,
          1501000,
          1601000,
          1701000,
          1801000,
          1901000,
          2001000,
          2101000
         ],
         "y": [
          19,
          4,
          5,
          5,
          4,
          7,
          8,
          2,
          3,
          10,
          3,
          4,
          2,
          7,
          5,
          8,
          7,
          7,
          3,
          8,
          8,
          2,
          3
         ]
        },
        {
         "name": "H (atomic)",
         "type": "scatter",
         "x": [
          1000,
          101000,
          201000,
          301000,
          401000,
          501000,
          601000,
          701000,
          801000,
          901000,
          1001000,
          1101000,
          1201000,
          1301000,
          1401000,
          1501000,
          1601000,
          1701000,
          1801000,
          1901000,
          2001000,
          2101000
         ],
         "y": [
          307,
          20,
          32,
          36,
          47,
          42,
          43,
          42,
          39,
          40,
          34,
          50,
          32,
          26,
          51,
          42,
          62,
          40,
          50,
          40,
          47,
          56,
          53
         ]
        },
        {
         "name": "Not defined",
         "type": "scatter",
         "x": [
          1000,
          101000,
          201000,
          301000,
          401000,
          501000,
          601000,
          701000,
          801000,
          901000,
          1001000,
          1101000,
          1201000,
          1301000,
          1401000,
          1501000,
          1601000,
          1701000,
          1801000,
          1901000,
          2001000,
          2101000
         ],
         "y": [
          407,
          478,
          461,
          471,
          493,
          488,
          481,
          495,
          491,
          465,
          504,
          487,
          524,
          522,
          483,
          520,
          528,
          536,
          500,
          521,
          509,
          479,
          516
         ]
        }
       ],
       "layout": {
        "autosize": true,
        "template": {
         "data": {
          "bar": [
           {
            "error_x": {
             "color": "#2a3f5f"
            },
            "error_y": {
             "color": "#2a3f5f"
            },
            "marker": {
             "line": {
              "color": "#E5ECF6",
              "width": 0.5
             }
            },
            "type": "bar"
           }
          ],
          "barpolar": [
           {
            "marker": {
             "line": {
              "color": "#E5ECF6",
              "width": 0.5
             }
            },
            "type": "barpolar"
           }
          ],
          "carpet": [
           {
            "aaxis": {
             "endlinecolor": "#2a3f5f",
             "gridcolor": "white",
             "linecolor": "white",
             "minorgridcolor": "white",
             "startlinecolor": "#2a3f5f"
            },
            "baxis": {
             "endlinecolor": "#2a3f5f",
             "gridcolor": "white",
             "linecolor": "white",
             "minorgridcolor": "white",
             "startlinecolor": "#2a3f5f"
            },
            "type": "carpet"
           }
          ],
          "choropleth": [
           {
            "colorbar": {
             "outlinewidth": 0,
             "ticks": ""
            },
            "type": "choropleth"
           }
          ],
          "contour": [
           {
            "colorbar": {
             "outlinewidth": 0,
             "ticks": ""
            },
            "colorscale": [
             [
              0,
              "#0d0887"
             ],
             [
              0.1111111111111111,
              "#46039f"
             ],
             [
              0.2222222222222222,
              "#7201a8"
             ],
             [
              0.3333333333333333,
              "#9c179e"
             ],
             [
              0.4444444444444444,
              "#bd3786"
             ],
             [
              0.5555555555555556,
              "#d8576b"
             ],
             [
              0.6666666666666666,
              "#ed7953"
             ],
             [
              0.7777777777777778,
              "#fb9f3a"
             ],
             [
              0.8888888888888888,
              "#fdca26"
             ],
             [
              1,
              "#f0f921"
             ]
            ],
            "type": "contour"
           }
          ],
          "contourcarpet": [
           {
            "colorbar": {
             "outlinewidth": 0,
             "ticks": ""
            },
            "type": "contourcarpet"
           }
          ],
          "heatmap": [
           {
            "colorbar": {
             "outlinewidth": 0,
             "ticks": ""
            },
            "colorscale": [
             [
              0,
              "#0d0887"
             ],
             [
              0.1111111111111111,
              "#46039f"
             ],
             [
              0.2222222222222222,
              "#7201a8"
             ],
             [
              0.3333333333333333,
              "#9c179e"
             ],
             [
              0.4444444444444444,
              "#bd3786"
             ],
             [
              0.5555555555555556,
              "#d8576b"
             ],
             [
              0.6666666666666666,
              "#ed7953"
             ],
             [
              0.7777777777777778,
              "#fb9f3a"
             ],
             [
              0.8888888888888888,
              "#fdca26"
             ],
             [
              1,
              "#f0f921"
             ]
            ],
            "type": "heatmap"
           }
          ],
          "heatmapgl": [
           {
            "colorbar": {
             "outlinewidth": 0,
             "ticks": ""
            },
            "colorscale": [
             [
              0,
              "#0d0887"
             ],
             [
              0.1111111111111111,
              "#46039f"
             ],
             [
              0.2222222222222222,
              "#7201a8"
             ],
             [
              0.3333333333333333,
              "#9c179e"
             ],
             [
              0.4444444444444444,
              "#bd3786"
             ],
             [
              0.5555555555555556,
              "#d8576b"
             ],
             [
              0.6666666666666666,
              "#ed7953"
             ],
             [
              0.7777777777777778,
              "#fb9f3a"
             ],
             [
              0.8888888888888888,
              "#fdca26"
             ],
             [
              1,
              "#f0f921"
             ]
            ],
            "type": "heatmapgl"
           }
          ],
          "histogram": [
           {
            "marker": {
             "colorbar": {
              "outlinewidth": 0,
              "ticks": ""
             }
            },
            "type": "histogram"
           }
          ],
          "histogram2d": [
           {
            "colorbar": {
             "outlinewidth": 0,
             "ticks": ""
            },
            "colorscale": [
             [
              0,
              "#0d0887"
             ],
             [
              0.1111111111111111,
              "#46039f"
             ],
             [
              0.2222222222222222,
              "#7201a8"
             ],
             [
              0.3333333333333333,
              "#9c179e"
             ],
             [
              0.4444444444444444,
              "#bd3786"
             ],
             [
              0.5555555555555556,
              "#d8576b"
             ],
             [
              0.6666666666666666,
              "#ed7953"
             ],
             [
              0.7777777777777778,
              "#fb9f3a"
             ],
             [
              0.8888888888888888,
              "#fdca26"
             ],
             [
              1,
              "#f0f921"
             ]
            ],
            "type": "histogram2d"
           }
          ],
          "histogram2dcontour": [
           {
            "colorbar": {
             "outlinewidth": 0,
             "ticks": ""
            },
            "colorscale": [
             [
              0,
              "#0d0887"
             ],
             [
              0.1111111111111111,
              "#46039f"
             ],
             [
              0.2222222222222222,
              "#7201a8"
             ],
             [
              0.3333333333333333,
              "#9c179e"
             ],
             [
              0.4444444444444444,
              "#bd3786"
             ],
             [
              0.5555555555555556,
              "#d8576b"
             ],
             [
              0.6666666666666666,
              "#ed7953"
             ],
             [
              0.7777777777777778,
              "#fb9f3a"
             ],
             [
              0.8888888888888888,
              "#fdca26"
             ],
             [
              1,
              "#f0f921"
             ]
            ],
            "type": "histogram2dcontour"
           }
          ],
          "mesh3d": [
           {
            "colorbar": {
             "outlinewidth": 0,
             "ticks": ""
            },
            "type": "mesh3d"
           }
          ],
          "parcoords": [
           {
            "line": {
             "colorbar": {
              "outlinewidth": 0,
              "ticks": ""
             }
            },
            "type": "parcoords"
           }
          ],
          "pie": [
           {
            "automargin": true,
            "type": "pie"
           }
          ],
          "scatter": [
           {
            "marker": {
             "colorbar": {
              "outlinewidth": 0,
              "ticks": ""
             }
            },
            "type": "scatter"
           }
          ],
          "scatter3d": [
           {
            "line": {
             "colorbar": {
              "outlinewidth": 0,
              "ticks": ""
             }
            },
            "marker": {
             "colorbar": {
              "outlinewidth": 0,
              "ticks": ""
             }
            },
            "type": "scatter3d"
           }
          ],
          "scattercarpet": [
           {
            "marker": {
             "colorbar": {
              "outlinewidth": 0,
              "ticks": ""
             }
            },
            "type": "scattercarpet"
           }
          ],
          "scattergeo": [
           {
            "marker": {
             "colorbar": {
              "outlinewidth": 0,
              "ticks": ""
             }
            },
            "type": "scattergeo"
           }
          ],
          "scattergl": [
           {
            "marker": {
             "colorbar": {
              "outlinewidth": 0,
              "ticks": ""
             }
            },
            "type": "scattergl"
           }
          ],
          "scattermapbox": [
           {
            "marker": {
             "colorbar": {
              "outlinewidth": 0,
              "ticks": ""
             }
            },
            "type": "scattermapbox"
           }
          ],
          "scatterpolar": [
           {
            "marker": {
             "colorbar": {
              "outlinewidth": 0,
              "ticks": ""
             }
            },
            "type": "scatterpolar"
           }
          ],
          "scatterpolargl": [
           {
            "marker": {
             "colorbar": {
              "outlinewidth": 0,
              "ticks": ""
             }
            },
            "type": "scatterpolargl"
           }
          ],
          "scatterternary": [
           {
            "marker": {
             "colorbar": {
              "outlinewidth": 0,
              "ticks": ""
             }
            },
            "type": "scatterternary"
           }
          ],
          "surface": [
           {
            "colorbar": {
             "outlinewidth": 0,
             "ticks": ""
            },
            "colorscale": [
             [
              0,
              "#0d0887"
             ],
             [
              0.1111111111111111,
              "#46039f"
             ],
             [
              0.2222222222222222,
              "#7201a8"
             ],
             [
              0.3333333333333333,
              "#9c179e"
             ],
             [
              0.4444444444444444,
              "#bd3786"
             ],
             [
              0.5555555555555556,
              "#d8576b"
             ],
             [
              0.6666666666666666,
              "#ed7953"
             ],
             [
              0.7777777777777778,
              "#fb9f3a"
             ],
             [
              0.8888888888888888,
              "#fdca26"
             ],
             [
              1,
              "#f0f921"
             ]
            ],
            "type": "surface"
           }
          ],
          "table": [
           {
            "cells": {
             "fill": {
              "color": "#EBF0F8"
             },
             "line": {
              "color": "white"
             }
            },
            "header": {
             "fill": {
              "color": "#C8D4E3"
             },
             "line": {
              "color": "white"
             }
            },
            "type": "table"
           }
          ]
         },
         "layout": {
          "annotationdefaults": {
           "arrowcolor": "#2a3f5f",
           "arrowhead": 0,
           "arrowwidth": 1
          },
          "autotypenumbers": "strict",
          "coloraxis": {
           "colorbar": {
            "outlinewidth": 0,
            "ticks": ""
           }
          },
          "colorscale": {
           "diverging": [
            [
             0,
             "#8e0152"
            ],
            [
             0.1,
             "#c51b7d"
            ],
            [
             0.2,
             "#de77ae"
            ],
            [
             0.3,
             "#f1b6da"
            ],
            [
             0.4,
             "#fde0ef"
            ],
            [
             0.5,
             "#f7f7f7"
            ],
            [
             0.6,
             "#e6f5d0"
            ],
            [
             0.7,
             "#b8e186"
            ],
            [
             0.8,
             "#7fbc41"
            ],
            [
             0.9,
             "#4d9221"
            ],
            [
             1,
             "#276419"
            ]
           ],
           "sequential": [
            [
             0,
             "#0d0887"
            ],
            [
             0.1111111111111111,
             "#46039f"
            ],
            [
             0.2222222222222222,
             "#7201a8"
            ],
            [
             0.3333333333333333,
             "#9c179e"
            ],
            [
             0.4444444444444444,
             "#bd3786"
            ],
            [
             0.5555555555555556,
             "#d8576b"
            ],
            [
             0.6666666666666666,
             "#ed7953"
            ],
            [
             0.7777777777777778,
             "#fb9f3a"
            ],
            [
             0.8888888888888888,
             "#fdca26"
            ],
            [
             1,
             "#f0f921"
            ]
           ],
           "sequentialminus": [
            [
             0,
             "#0d0887"
            ],
            [
             0.1111111111111111,
             "#46039f"
            ],
            [
             0.2222222222222222,
             "#7201a8"
            ],
            [
             0.3333333333333333,
             "#9c179e"
            ],
            [
             0.4444444444444444,
             "#bd3786"
            ],
            [
             0.5555555555555556,
             "#d8576b"
            ],
            [
             0.6666666666666666,
             "#ed7953"
            ],
            [
             0.7777777777777778,
             "#fb9f3a"
            ],
            [
             0.8888888888888888,
             "#fdca26"
            ],
            [
             1,
             "#f0f921"
            ]
           ]
          },
          "colorway": [
           "#636efa",
           "#EF553B",
           "#00cc96",
           "#ab63fa",
           "#FFA15A",
           "#19d3f3",
           "#FF6692",
           "#B6E880",
           "#FF97FF",
           "#FECB52"
          ],
          "font": {
           "color": "#2a3f5f"
          },
          "geo": {
           "bgcolor": "white",
           "lakecolor": "white",
           "landcolor": "#E5ECF6",
           "showlakes": true,
           "showland": true,
           "subunitcolor": "white"
          },
          "hoverlabel": {
           "align": "left"
          },
          "hovermode": "closest",
          "mapbox": {
           "style": "light"
          },
          "paper_bgcolor": "white",
          "plot_bgcolor": "#E5ECF6",
          "polar": {
           "angularaxis": {
            "gridcolor": "white",
            "linecolor": "white",
            "ticks": ""
           },
           "bgcolor": "#E5ECF6",
           "radialaxis": {
            "gridcolor": "white",
            "linecolor": "white",
            "ticks": ""
           }
          },
          "scene": {
           "xaxis": {
            "backgroundcolor": "#E5ECF6",
            "gridcolor": "white",
            "gridwidth": 2,
            "linecolor": "white",
            "showbackground": true,
            "ticks": "",
            "zerolinecolor": "white"
           },
           "yaxis": {
            "backgroundcolor": "#E5ECF6",
            "gridcolor": "white",
            "gridwidth": 2,
            "linecolor": "white",
            "showbackground": true,
            "ticks": "",
            "zerolinecolor": "white"
           },
           "zaxis": {
            "backgroundcolor": "#E5ECF6",
            "gridcolor": "white",
            "gridwidth": 2,
            "linecolor": "white",
            "showbackground": true,
            "ticks": "",
            "zerolinecolor": "white"
           }
          },
          "shapedefaults": {
           "line": {
            "color": "#2a3f5f"
           }
          },
          "ternary": {
           "aaxis": {
            "gridcolor": "white",
            "linecolor": "white",
            "ticks": ""
           },
           "baxis": {
            "gridcolor": "white",
            "linecolor": "white",
            "ticks": ""
           },
           "bgcolor": "#E5ECF6",
           "caxis": {
            "gridcolor": "white",
            "linecolor": "white",
            "ticks": ""
           }
          },
          "title": {
           "x": 0.05
          },
          "xaxis": {
           "automargin": true,
           "gridcolor": "white",
           "linecolor": "white",
           "ticks": "",
           "title": {
            "standoff": 15
           },
           "zerolinecolor": "white",
           "zerolinewidth": 2
          },
          "yaxis": {
           "automargin": true,
           "gridcolor": "white",
           "linecolor": "white",
           "ticks": "",
           "title": {
            "standoff": 15
           },
           "zerolinecolor": "white",
           "zerolinewidth": 2
          }
         }
        },
        "title": {
         "text": "Concentration of components on different timesteps"
        },
        "xaxis": {
         "range": [
          1000,
          2283000
         ],
         "title": {
          "text": "Timestep"
         },
         "type": "linear"
        },
        "yaxis": {
         "autorange": true,
         "range": [
          -77.77777777777779,
          1517.7777777777778
         ],
         "title": {
          "text": "Number of particles"
         },
         "type": "linear"
        }
       }
      },
      "image/png": "[encoded data removed]",
      "text/html": [
       "<div>                            <div id=\"40421e71-b48a-4d20-8f1c-bedb9e08bd69\" class=\"plotly-graph-div\" style=\"height:525px; width:100%;\"></div>            <script type=\"text/javascript\">                require([\"plotly\"], function(Plotly) {                    window.PLOTLYENV=window.PLOTLYENV || {};                                    if (document.getElementById(\"40421e71-b48a-4d20-8f1c-bedb9e08bd69\")) {                    Plotly.newPlot(                        \"40421e71-b48a-4d20-8f1c-bedb9e08bd69\",                        [{\"name\": \"H_2 (molecular)\", \"type\": \"scatter\", \"x\": [1000, 101000, 201000, 301000, 401000, 501000, 601000, 701000, 801000, 901000, 1001000, 1101000, 1201000, 1301000, 1401000, 1501000, 1601000, 1701000, 1801000, 1901000, 2001000, 2101000], \"y\": [1154, 1424, 1438, 1420, 1384, 1390, 1396, 1396, 1404, 1436, 1392, 1396, 1364, 1372, 1408, 1368, 1330, 1346, 1388, 1362, 1366, 1412, 1368]}, {\"name\": \"Protons\", \"type\": \"scatter\", \"x\": [1000, 101000, 201000, 301000, 401000, 501000, 601000, 701000, 801000, 901000, 1001000, 1101000, 1201000, 1301000, 1401000, 1501000, 1601000, 1701000, 1801000, 1901000, 2001000, 2101000], \"y\": [113, 74, 64, 68, 72, 73, 72, 65, 63, 49, 67, 63, 78, 73, 53, 62, 73, 71, 59, 69, 70, 51, 60]}, {\"name\": \"Electrons\", \"type\": \"scatter\", \"x\": [1000, 101000, 201000, 301000, 401000, 501000, 601000, 701000, 801000, 901000, 1001000, 1101000, 1201000, 1301000, 1401000, 1501000, 1601000, 1701000, 1801000, 1901000, 2001000, 2101000], \"y\": [19, 4, 5, 5, 4, 7, 8, 2, 3, 10, 3, 4, 2, 7, 5, 8, 7, 7, 3, 8, 8, 2, 3]}, {\"name\": \"H (atomic)\", \"type\": \"scatter\", \"x\": [1000, 101000, 201000, 301000, 401000, 501000, 601000, 701000, 801000, 901000, 1001000, 1101000, 1201000, 1301000, 1401000, 1501000, 1601000, 1701000, 1801000, 1901000, 2001000, 2101000], \"y\": [307, 20, 32, 36, 47, 42, 43, 42, 39, 40, 34, 50, 32, 26, 51, 42, 62, 40, 50, 40, 47, 56, 53]}, {\"name\": \"Not defined\", \"type\": \"scatter\", \"x\": [1000, 101000, 201000, 301000, 401000, 501000, 601000, 701000, 801000, 901000, 1001000, 1101000, 1201000, 1301000, 1401000, 1501000, 1601000, 1701000, 1801000, 1901000, 2001000, 2101000], \"y\": [407, 478, 461, 471, 493, 488, 481, 495, 491, 465, 504, 487, 524, 522, 483, 520, 528, 536, 500, 521, 509, 479, 516]}],                        {\"template\": {\"data\": {\"bar\": [{\"error_x\": {\"color\": \"#2a3f5f\"}, \"error_y\": {\"color\": \"#2a3f5f\"}, \"marker\": {\"line\": {\"color\": \"#E5ECF6\", \"width\": 0.5}}, \"type\": \"bar\"}], \"barpolar\": [{\"marker\": {\"line\": {\"color\": \"#E5ECF6\", \"width\": 0.5}}, \"type\": \"barpolar\"}], \"carpet\": [{\"aaxis\": {\"endlinecolor\": \"#2a3f5f\", \"gridcolor\": \"white\", \"linecolor\": \"white\", \"minorgridcolor\": \"white\", \"startlinecolor\": \"#2a3f5f\"}, \"baxis\": {\"endlinecolor\": \"#2a3f5f\", \"gridcolor\": \"white\", \"linecolor\": \"white\", \"minorgridcolor\": \"white\", \"startlinecolor\": \"#2a3f5f\"}, \"type\": \"carpet\"}], \"choropleth\": [{\"colorbar\": {\"outlinewidth\": 0, \"ticks\": \"\"}, \"type\": \"choropleth\"}], \"contour\": [{\"colorbar\": {\"outlinewidth\": 0, \"ticks\": \"\"}, \"colorscale\": [[0.0, \"#0d0887\"], [0.1111111111111111, \"#46039f\"], [0.2222222222222222, \"#7201a8\"], [0.3333333333333333, \"#9c179e\"], [0.4444444444444444, \"#bd3786\"], [0.5555555555555556, \"#d8576b\"], [0.6666666666666666, \"#ed7953\"], [0.7777777777777778, \"#fb9f3a\"], [0.8888888888888888, \"#fdca26\"], [1.0, \"#f0f921\"]], \"type\": \"contour\"}], \"contourcarpet\": [{\"colorbar\": {\"outlinewidth\": 0, \"ticks\": \"\"}, \"type\": \"contourcarpet\"}], \"heatmap\": [{\"colorbar\": {\"outlinewidth\": 0, \"ticks\": \"\"}, \"colorscale\": [[0.0, \"#0d0887\"], [0.1111111111111111, \"#46039f\"], [0.2222222222222222, \"#7201a8\"], [0.3333333333333333, \"#9c179e\"], [0.4444444444444444, \"#bd3786\"], [0.5555555555555556, \"#d8576b\"], [0.6666666666666666, \"#ed7953\"], [0.7777777777777778, \"#fb9f3a\"], [0.8888888888888888, \"#fdca26\"], [1.0, \"#f0f921\"]], \"type\": \"heatmap\"}], \"heatmapgl\": [{\"colorbar\": {\"outlinewidth\": 0, \"ticks\": \"\"}, \"colorscale\": [[0.0, \"#0d0887\"], [0.1111111111111111, \"#46039f\"], [0.2222222222222222, \"#7201a8\"], [0.3333333333333333, \"#9c179e\"], [0.4444444444444444, \"#bd3786\"], [0.5555555555555556, \"#d8576b\"], [0.6666666666666666, \"#ed7953\"], [0.7777777777777778, \"#fb9f3a\"], [0.8888888888888888, \"#fdca26\"], [1.0, \"#f0f921\"]], \"type\": \"heatmapgl\"}], \"histogram\": [{\"marker\": {\"colorbar\": {\"outlinewidth\": 0, \"ticks\": \"\"}}, \"type\": \"histogram\"}], \"histogram2d\": [{\"colorbar\": {\"outlinewidth\": 0, \"ticks\": \"\"}, \"colorscale\": [[0.0, \"#0d0887\"], [0.1111111111111111, \"#46039f\"], [0.2222222222222222, \"#7201a8\"], [0.3333333333333333, \"#9c179e\"], [0.4444444444444444, \"#bd3786\"], [0.5555555555555556, \"#d8576b\"], [0.6666666666666666, \"#ed7953\"], [0.7777777777777778, \"#fb9f3a\"], [0.8888888888888888, \"#fdca26\"], [1.0, \"#f0f921\"]], \"type\": \"histogram2d\"}], \"histogram2dcontour\": [{\"colorbar\": {\"outlinewidth\": 0, \"ticks\": \"\"}, \"colorscale\": [[0.0, \"#0d0887\"], [0.1111111111111111, \"#46039f\"], [0.2222222222222222, \"#7201a8\"], [0.3333333333333333, \"#9c179e\"], [0.4444444444444444, \"#bd3786\"], [0.5555555555555556, \"#d8576b\"], [0.6666666666666666, \"#ed7953\"], [0.7777777777777778, \"#fb9f3a\"], [0.8888888888888888, \"#fdca26\"], [1.0, \"#f0f921\"]], \"type\": \"histogram2dcontour\"}], \"mesh3d\": [{\"colorbar\": {\"outlinewidth\": 0, \"ticks\": \"\"}, \"type\": \"mesh3d\"}], \"parcoords\": [{\"line\": {\"colorbar\": {\"outlinewidth\": 0, \"ticks\": \"\"}}, \"type\": \"parcoords\"}], \"pie\": [{\"automargin\": true, \"type\": \"pie\"}], \"scatter\": [{\"marker\": {\"colorbar\": {\"outlinewidth\": 0, \"ticks\": \"\"}}, \"type\": \"scatter\"}], \"scatter3d\": [{\"line\": {\"colorbar\": {\"outlinewidth\": 0, \"ticks\": \"\"}}, \"marker\": {\"colorbar\": {\"outlinewidth\": 0, \"ticks\": \"\"}}, \"type\": \"scatter3d\"}], \"scattercarpet\": [{\"marker\": {\"colorbar\": {\"outlinewidth\": 0, \"ticks\": \"\"}}, \"type\": \"scattercarpet\"}], \"scattergeo\": [{\"marker\": {\"colorbar\": {\"outlinewidth\": 0, \"ticks\": \"\"}}, \"type\": \"scattergeo\"}], \"scattergl\": [{\"marker\": {\"colorbar\": {\"outlinewidth\": 0, \"ticks\": \"\"}}, \"type\": \"scattergl\"}], \"scattermapbox\": [{\"marker\": {\"colorbar\": {\"outlinewidth\": 0, \"ticks\": \"\"}}, \"type\": \"scattermapbox\"}], \"scatterpolar\": [{\"marker\": {\"colorbar\": {\"outlinewidth\": 0, \"ticks\": \"\"}}, \"type\": \"scatterpolar\"}], \"scatterpolargl\": [{\"marker\": {\"colorbar\": {\"outlinewidth\": 0, \"ticks\": \"\"}}, \"type\": \"scatterpolargl\"}], \"scatterternary\": [{\"marker\": {\"colorbar\": {\"outlinewidth\": 0, \"ticks\": \"\"}}, \"type\": \"scatterternary\"}], \"surface\": [{\"colorbar\": {\"outlinewidth\": 0, \"ticks\": \"\"}, \"colorscale\": [[0.0, \"#0d0887\"], [0.1111111111111111, \"#46039f\"], [0.2222222222222222, \"#7201a8\"], [0.3333333333333333, \"#9c179e\"], [0.4444444444444444, \"#bd3786\"], [0.5555555555555556, \"#d8576b\"], [0.6666666666666666, \"#ed7953\"], [0.7777777777777778, \"#fb9f3a\"], [0.8888888888888888, \"#fdca26\"], [1.0, \"#f0f921\"]], \"type\": \"surface\"}], \"table\": [{\"cells\": {\"fill\": {\"color\": \"#EBF0F8\"}, \"line\": {\"color\": \"white\"}}, \"header\": {\"fill\": {\"color\": \"#C8D4E3\"}, \"line\": {\"color\": \"white\"}}, \"type\": \"table\"}]}, \"layout\": {\"annotationdefaults\": {\"arrowcolor\": \"#2a3f5f\", \"arrowhead\": 0, \"arrowwidth\": 1}, \"autotypenumbers\": \"strict\", \"coloraxis\": {\"colorbar\": {\"outlinewidth\": 0, \"ticks\": \"\"}}, \"colorscale\": {\"diverging\": [[0, \"#8e0152\"], [0.1, \"#c51b7d\"], [0.2, \"#de77ae\"], [0.3, \"#f1b6da\"], [0.4, \"#fde0ef\"], [0.5, \"#f7f7f7\"], [0.6, \"#e6f5d0\"], [0.7, \"#b8e186\"], [0.8, \"#7fbc41\"], [0.9, \"#4d9221\"], [1, \"#276419\"]], \"sequential\": [[0.0, \"#0d0887\"], [0.1111111111111111, \"#46039f\"], [0.2222222222222222, \"#7201a8\"], [0.3333333333333333, \"#9c179e\"], [0.4444444444444444, \"#bd3786\"], [0.5555555555555556, \"#d8576b\"], [0.6666666666666666, \"#ed7953\"], [0.7777777777777778, \"#fb9f3a\"], [0.8888888888888888, \"#fdca26\"], [1.0, \"#f0f921\"]], \"sequentialminus\": [[0.0, \"#0d0887\"], [0.1111111111111111, \"#46039f\"], [0.2222222222222222, \"#7201a8\"], [0.3333333333333333, \"#9c179e\"], [0.4444444444444444, \"#bd3786\"], [0.5555555555555556, \"#d8576b\"], [0.6666666666666666, \"#ed7953\"], [0.7777777777777778, \"#fb9f3a\"], [0.8888888888888888, \"#fdca26\"], [1.0, \"#f0f921\"]]}, \"colorway\": [\"#636efa\", \"#EF553B\", \"#00cc96\", \"#ab63fa\", \"#FFA15A\", \"#19d3f3\", \"#FF6692\", \"#B6E880\", \"#FF97FF\", \"#FECB52\"], \"font\": {\"color\": \"#2a3f5f\"}, \"geo\": {\"bgcolor\": \"white\", \"lakecolor\": \"white\", \"landcolor\": \"#E5ECF6\", \"showlakes\": true, \"showland\": true, \"subunitcolor\": \"white\"}, \"hoverlabel\": {\"align\": \"left\"}, \"hovermode\": \"closest\", \"mapbox\": {\"style\": \"light\"}, \"paper_bgcolor\": \"white\", \"plot_bgcolor\": \"#E5ECF6\", \"polar\": {\"angularaxis\": {\"gridcolor\": \"white\", \"linecolor\": \"white\", \"ticks\": \"\"}, \"bgcolor\": \"#E5ECF6\", \"radialaxis\": {\"gridcolor\": \"white\", \"linecolor\": \"white\", \"ticks\": \"\"}}, \"scene\": {\"xaxis\": {\"backgroundcolor\": \"#E5ECF6\", \"gridcolor\": \"white\", \"gridwidth\": 2, \"linecolor\": \"white\", \"showbackground\": true, \"ticks\": \"\", \"zerolinecolor\": \"white\"}, \"yaxis\": {\"backgroundcolor\": \"#E5ECF6\", \"gridcolor\": \"white\", \"gridwidth\": 2, \"linecolor\": \"white\", \"showbackground\": true, \"ticks\": \"\", \"zerolinecolor\": \"white\"}, \"zaxis\": {\"backgroundcolor\": \"#E5ECF6\", \"gridcolor\": \"white\", \"gridwidth\": 2, \"linecolor\": \"white\", \"showbackground\": true, \"ticks\": \"\", \"zerolinecolor\": \"white\"}}, \"shapedefaults\": {\"line\": {\"color\": \"#2a3f5f\"}}, \"ternary\": {\"aaxis\": {\"gridcolor\": \"white\", \"linecolor\": \"white\", \"ticks\": \"\"}, \"baxis\": {\"gridcolor\": \"white\", \"linecolor\": \"white\", \"ticks\": \"\"}, \"bgcolor\": \"#E5ECF6\", \"caxis\": {\"gridcolor\": \"white\", \"linecolor\": \"white\", \"ticks\": \"\"}}, \"title\": {\"x\": 0.05}, \"xaxis\": {\"automargin\": true, \"gridcolor\": \"white\", \"linecolor\": \"white\", \"ticks\": \"\", \"title\": {\"standoff\": 15}, \"zerolinecolor\": \"white\", \"zerolinewidth\": 2}, \"yaxis\": {\"automargin\": true, \"gridcolor\": \"white\", \"linecolor\": \"white\", \"ticks\": \"\", \"title\": {\"standoff\": 15}, \"zerolinecolor\": \"white\", \"zerolinewidth\": 2}}}, \"title\": {\"text\": \"Concentration of components on different timesteps\"}, \"xaxis\": {\"range\": [1000, 2283000], \"title\": {\"text\": \"Timestep\"}}, \"yaxis\": {\"title\": {\"text\": \"Number of particles\"}}},                        {\"responsive\": true}                    ).then(function(){\n",
       "                            \n",
       "var gd = document.getElementById('40421e71-b48a-4d20-8f1c-bedb9e08bd69');\n",
       "var x = new MutationObserver(function (mutations, observer) {{\n",
       "        var display = window.getComputedStyle(gd).display;\n",
       "        if (!display || display === 'none') {{\n",
       "            console.log([gd, 'removed!']);\n",
       "            Plotly.purge(gd);\n",
       "            observer.disconnect();\n",
       "        }}\n",
       "}});\n",
       "\n",
       "// Listen for the removal of the full notebook cells\n",
       "var notebookContainer = gd.closest('#notebook-container');\n",
       "if (notebookContainer) {{\n",
       "    x.observe(notebookContainer, {childList: true});\n",
       "}}\n",
       "\n",
       "// Listen for the clearing of the current output cell\n",
       "var outputEl = gd.closest('.output');\n",
       "if (outputEl) {{\n",
       "    x.observe(outputEl, {childList: true});\n",
       "}}\n",
       "\n",
       "                        })                };                });            </script>        </div>"
      ]
     },
     "metadata": {},
     "output_type": "display_data"
    }
   ],
   "source": [
    "N = 2283000\n",
    "step = 100000\n",
    "timesteps = np.arange(1000, 2101001, step)\n",
    "\n",
    "fig = go.Figure()\n",
    "\n",
    "fig.update_layout(title=\"Concentration of components on different timesteps\")\n",
    "fig.update_yaxes(title=\"Number of particles\")\n",
    "fig.update_xaxes(range=[1000, N], title=\"Timestep\")\n",
    "fig.add_trace(go.Scatter(x=timesteps, y=h2, name=\"H_2 (molecular)\"))\n",
    "fig.add_trace(go.Scatter(x=timesteps, y=hp, name=\"Protons\"))\n",
    "fig.add_trace(go.Scatter(x=timesteps, y=em, name=\"Electrons\"))\n",
    "fig.add_trace(go.Scatter(x=timesteps, y=h, name=\"H (atomic)\"))\n",
    "fig.add_trace(go.Scatter(x=timesteps, y=dfc, name=\"Not defined\"))\n",
    "\n",
    "fig.show()"
   ]
  },
  {
   "cell_type": "code",
   "execution_count": 12,
   "id": "passive-fence",
   "metadata": {},
   "outputs": [
    {
     "ename": "SyntaxError",
     "evalue": "invalid syntax (<ipython-input-12-1299cdc76f48>, line 1)",
     "output_type": "error",
     "traceback": [
      "\u001b[0;36m  File \u001b[0;32m\"<ipython-input-12-1299cdc76f48>\"\u001b[0;36m, line \u001b[0;32m1\u001b[0m\n\u001b[0;31m    data =\u001b[0m\n\u001b[0m           ^\u001b[0m\n\u001b[0;31mSyntaxError\u001b[0m\u001b[0;31m:\u001b[0m invalid syntax\n"
     ]
    }
   ],
   "source": [
    "data = "
   ]
  },
  {
   "cell_type": "code",
   "execution_count": null,
   "id": "forty-logan",
   "metadata": {},
   "outputs": [],
   "source": []
  }
 ],
 "metadata": {
  "kernelspec": {
   "display_name": "Python 3",
   "language": "python",
   "name": "python3"
  },
  "language_info": {
   "codemirror_mode": {
    "name": "ipython",
    "version": 3
   },
   "file_extension": ".py",
   "mimetype": "text/x-python",
   "name": "python",
   "nbconvert_exporter": "python",
   "pygments_lexer": "ipython3",
   "version": "3.9.2"
  }
 },
 "nbformat": 4,
 "nbformat_minor": 5
}
